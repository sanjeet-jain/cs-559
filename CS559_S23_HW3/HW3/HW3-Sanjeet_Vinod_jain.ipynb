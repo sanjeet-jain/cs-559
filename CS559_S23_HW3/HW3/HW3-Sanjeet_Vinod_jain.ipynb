{
 "cells": [
  {
   "attachments": {},
   "cell_type": "markdown",
   "metadata": {},
   "source": [
    "| Data | Xi1 | Xi2 | Yi  | αi    |\n",
    "| ---- | --- | --- | --- | ----- |\n",
    "| X1   | 4   | 2.9 | 1   | 0.414 |\n",
    "| X2   | 4   | 4   | 1   | 0     |\n",
    "| X3   | 1   | 2.5 | -1  | 0     |\n",
    "| X4   | 2.5 | 1   | -1  | 0.018 |\n",
    "| X5   | 4.9 | 4.5 | 1   | 0     |\n",
    "| X6   | 1.9 | 1.9 | -1  | 0     |\n",
    "| X7   | 3.5 | 4   | 1   | 0.018 |\n",
    "| X8   | 0.5 | 1.5 | -1  | 0     |\n",
    "| X9   | 2   | 2.1 | -1  | 0.414 |\n",
    "| X10  | 4.5 | 2.5 | 1   | 0     |\n"
   ]
  },
  {
   "attachments": {},
   "cell_type": "markdown",
   "metadata": {},
   "source": [
    "[25 pts] Support Vector Machines: Given 10 points in Table 1, along with their classes and their Lagrangian multipliers (αi), answer the following questions. The solution is already provided in the lecture slide.\n",
    "\n",
    "[10 pts] Using NumPy, implement a simple SVM that returns the coefficients of the hyperplane. The simple SVM does not require an SDG approach. The simple SVM has three arguments, X, Y, and α, as simple_SVM(X,Y,alpha). What is the equation of h(x)? Draw the hyperplane with the 10 points.\n",
    "\n",
    "[10 pts] Write a method that calculates the distance of each point from the hyperplane and returns a binary result if a point is within the margin. If a point is in the margin, the binary result is 1 and 0 otherwise. What is the maximized margin? Return the result in the table format as shown.\n",
    "\n",
    "| Data | Distance | In Margin? |\n",
    "| ---- | -------- | ---------- |\n",
    "| x*1  | D*1      | {0,1}      |\n",
    "| ⋮    | ⋮        | ⋮          |\n",
    "| x*10 | D_10     | {0,1}      |\n",
    "\n",
    "[5 pts] Classify the point z = (3, 3)T using h(x) from above.\n"
   ]
  },
  {
   "attachments": {},
   "cell_type": "markdown",
   "metadata": {},
   "source": [
    "# SVM\n",
    "\n",
    "We are given a set of 10 points along with their classes and Lagrangian multipliers.\n",
    "We can solve for the coefficients of the hyperplane using the the following algorithm for SVM :\n",
    "For calculating the weight vector, we have:\n",
    "\n",
    "K(Xi1, Xi2) = e^{-\\gamma ||Xi1 - Xi2||^2}\n",
    "\n",
    "w = Σ(αi * yj _ K([Xj1, Xj2], [Xi1, Xi2]))\n",
    "\n",
    "And for calculating the bias, we have:\n",
    "b = yj - Σ(αj _ yj _ K([Xj1, Xj2], [Xi1, Xi2]))\n",
    "\n",
    "Once we have calculated the weight vector and bias, we can use them to classify new data points using the hyperplane function:\n",
    "\n",
    "h(x) = w^T x + b\n",
    "\n",
    "where x is the new data point.\n",
    "\n",
    "To calculate the distance of each point from the hyperplane, we use the formula:\n",
    "\n",
    "distance = |h(x)| / ||w||\n",
    "\n",
    "where ||w|| is the norm of the weight vector.\n",
    "\n",
    "Finally, to calculate the margin, we need to find the distance between the hyperplane and the closest data point from either class. This can be done by iterating over all the data points and finding the minimum distance for each class.\n"
   ]
  },
  {
   "cell_type": "code",
   "execution_count": 16,
   "metadata": {},
   "outputs": [],
   "source": [
    "# imports for project\n",
    "import numpy as np\n",
    "import pandas as pd\n",
    "import matplotlib.pyplot as plt"
   ]
  },
  {
   "cell_type": "code",
   "execution_count": 6,
   "metadata": {},
   "outputs": [],
   "source": [
    "class SVM_simple:\n",
    "    def __init__(self, X, y, alphaLagrange, gammaRadial):\n",
    "        self.X = X\n",
    "        self.y = y\n",
    "        self.alphaLagrange = alphaLagrange\n",
    "        self.gammaRadial = gammaRadial\n",
    "\n",
    "    def rbf_kernel(X, gamma):\n",
    "        # Compute the radial basis function (RBF) kernel matrix.\n",
    "        # Args:\n",
    "        #     X: ndarray of shape (n_samples, n_features)\n",
    "        #         The input data matrix.\n",
    "        #     gamma: float\n",
    "        #         The gamma parameter for the RBF kernel.\n",
    "\n",
    "        # Returns:\n",
    "        #     K: ndarray of shape (n_samples, n_samples)\n",
    "        #         The RBF kernel matrix.\n",
    "        n_samples = X.shape[0]\n",
    "        K = np.zeros((n_samples, n_samples))\n",
    "        for i in range(n_samples):\n",
    "            for j in range(n_samples):\n",
    "                norm = np.linalg.norm(X[i] - X[j]) ** 2\n",
    "                expTerm = -gamma * norm\n",
    "                K[i, j] = np.exp(expTerm)\n",
    "        return K\n",
    "\n",
    "    def fit(self):\n",
    "        # w = Σ(αi _ yj _ K([Xj1, Xj2], [Xi1, Xi2]))\n",
    "        n_samples = self.X.shape[0]\n",
    "        for i in range(0, n_samples):\n",
    "            afterKernel = self.rbf_kernel(self.X,self.gammaRadial)\n",
    "            w = np.sum(self.alphaLagrange[i])"
   ]
  },
  {
   "cell_type": "code",
   "execution_count": 15,
   "metadata": {},
   "outputs": [
    {
     "name": "stdout",
     "output_type": "stream",
     "text": [
      "X: \n",
      " [[4.  2.9]\n",
      " [4.  4. ]\n",
      " [1.  2.5]\n",
      " [2.5 1. ]\n",
      " [4.9 4.5]\n",
      " [1.9 1.9]\n",
      " [3.5 4. ]\n",
      " [0.5 1.5]\n",
      " [2.  2.1]\n",
      " [4.5 2.5]]\n",
      "y: \n",
      " [ 1  1 -1 -1  1 -1  1 -1 -1  1]\n"
     ]
    }
   ],
   "source": [
    "# initialise data\n",
    "X = np.array(\n",
    "    [\n",
    "        4,\n",
    "        2.9,\n",
    "        4,\n",
    "        4,\n",
    "        1,\n",
    "        2.5,\n",
    "        2.5,\n",
    "        1,\n",
    "        4.9,\n",
    "        4.5,\n",
    "        1.9,\n",
    "        1.9,\n",
    "        3.5,\n",
    "        4,\n",
    "        0.5,\n",
    "        1.5,\n",
    "        2,\n",
    "        2.1,\n",
    "        4.5,\n",
    "        2.5,\n",
    "    ]\n",
    ").reshape(10, 2)\n",
    "print(\"X: \\n\", X)\n",
    "\n",
    "y = np.array([1, 1, -1, -1, 1, -1, 1, -1, -1, 1])\n",
    "print(\"y: \\n\", y)\n",
    "\n",
    "alphaLagrange = np.array([0.414, 0, 0, 0.018, 0, 0, 0.018, 0, 0.414, 0])"
   ]
  },
  {
   "cell_type": "code",
   "execution_count": 20,
   "metadata": {},
   "outputs": [
    {
     "data": {
      "image/png": "[encoded data removed]",
      "text/plain": [
       "<Figure size 640x480 with 1 Axes>"
      ]
     },
     "metadata": {},
     "output_type": "display_data"
    }
   ],
   "source": [
    "# lets just visualise the data we got \n",
    "# separate the data points by class\n",
    "class1 = X[y==1]\n",
    "class2 = X[y==-1]\n",
    "\n",
    "# plot the data points\n",
    "plt.scatter(class1[:,0], class1[:,1], c='r', label='Class 1')\n",
    "plt.scatter(class2[:,0], class2[:,1], c='b', label='Class -1')\n",
    "\n",
    "# add axis labels and legend\n",
    "plt.xlabel('Xi1')\n",
    "plt.ylabel('Xi2')\n",
    "plt.legend()\n",
    "plt.show()"
   ]
  },
  {
   "cell_type": "code",
   "execution_count": null,
   "metadata": {},
   "outputs": [],
   "source": [
    "# initialise the model\n",
    "svm_model = SVM_simple(X,y,alphaLagrange,gammaRadial=0.1)\n",
    "\n",
    "#fit the model\n",
    "svm_model.fit(X,y)"
   ]
  }
 ],
 "metadata": {
  "kernelspec": {
   "display_name": "tf_venv",
   "language": "python",
   "name": "tf_venv"
  },
  "language_info": {
   "codemirror_mode": {
    "name": "ipython",
    "version": 3
   },
   "file_extension": ".py",
   "mimetype": "text/x-python",
   "name": "python",
   "nbconvert_exporter": "python",
   "pygments_lexer": "ipython3",
   "version": "3.10.0"
  },
  "orig_nbformat": 4
 },
 "nbformat": 4,
 "nbformat_minor": 2
}
