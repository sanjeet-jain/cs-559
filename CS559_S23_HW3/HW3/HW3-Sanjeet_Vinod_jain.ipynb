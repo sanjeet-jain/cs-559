{
 "cells": [
  {
   "attachments": {},
   "cell_type": "markdown",
   "metadata": {},
   "source": [
    "| Data | Xi1 | Xi2 | Yi  | αi    |\n",
    "| ---- | --- | --- | --- | ----- |\n",
    "| X1   | 4   | 2.9 | 1   | 0.414 |\n",
    "| X2   | 4   | 4   | 1   | 0     |\n",
    "| X3   | 1   | 2.5 | -1  | 0     |\n",
    "| X4   | 2.5 | 1   | -1  | 0.018 |\n",
    "| X5   | 4.9 | 4.5 | 1   | 0     |\n",
    "| X6   | 1.9 | 1.9 | -1  | 0     |\n",
    "| X7   | 3.5 | 4   | 1   | 0.018 |\n",
    "| X8   | 0.5 | 1.5 | -1  | 0     |\n",
    "| X9   | 2   | 2.1 | -1  | 0.414 |\n",
    "| X10  | 4.5 | 2.5 | 1   | 0     |\n"
   ]
  },
  {
   "attachments": {},
   "cell_type": "markdown",
   "metadata": {},
   "source": [
    "[25 pts] Support Vector Machines: Given 10 points in Table 1, along with their classes and their Lagrangian multipliers (αi), answer the following questions. The solution is already provided in the lecture slide.\n",
    "\n",
    "[10 pts] Using NumPy, implement a simple SVM that returns the coefficients of the hyperplane. The simple SVM does not require an SDG approach. The simple SVM has three arguments, X, Y, and α, as simple_SVM(X,Y,alpha). What is the equation of h(x)? Draw the hyperplane with the 10 points.\n",
    "\n",
    "[10 pts] Write a method that calculates the distance of each point from the hyperplane and returns a binary result if a point is within the margin. If a point is in the margin, the binary result is 1 and 0 otherwise. What is the maximized margin? Return the result in the table format as shown.\n",
    "\n",
    "| Data | Distance | In Margin? |\n",
    "| ---- | -------- | ---------- |\n",
    "| x*1  | D*1      | {0,1}      |\n",
    "| ⋮    | ⋮        | ⋮          |\n",
    "| x*10 | D_10     | {0,1}      |\n",
    "\n",
    "[5 pts] Classify the point z = (3, 3)T using h(x) from above.\n"
   ]
  },
  {
   "attachments": {},
   "cell_type": "markdown",
   "metadata": {},
   "source": [
    "We are given a set of 10 points along with their classes and Lagrangian multipliers.\n",
    "We can solve for the coefficients of the hyperplane using the following algorithm for SVM:\n",
    "For calculating the weight vector, we have:\n",
    "\n",
    "w = Σ(αi * yi * xi)\n",
    "\n",
    "And for calculating the bias, we have:\n",
    "\n",
    "b = yi - w^T xi\n",
    "\n",
    "Once we have calculated the weight vector and bias, we can use them to classify new data points using the hyperplane function:\n",
    "\n",
    "h(x) = w^T x + b\n",
    "\n",
    "where x is the new data point.\n",
    "\n",
    "To calculate the distance of each point from the hyperplane, we use the formula:\n",
    "\n",
    "distance = |h(x)| / ||w||\n",
    "\n",
    "where ||w|| is the norm of the weight vector.\n",
    "\n",
    "Finally, to calculate the margin, we need to find the distance between the hyperplane and the closest data point from either class. This can be done by iterating over all the data points and finding the minimum distance for each class."
   ]
  },
  {
   "cell_type": "code",
   "execution_count": 45,
   "metadata": {},
   "outputs": [],
   "source": [
    "# imports for project\n",
    "import numpy as np\n",
    "import matplotlib.pyplot as plt\n",
    "import pandas as pd"
   ]
  },
  {
   "cell_type": "code",
   "execution_count": 46,
   "metadata": {},
   "outputs": [],
   "source": [
    "# i have used round to round the decimal calculations to 2 decimal places\n",
    "class SVM:\n",
    "    def __init__(self):\n",
    "        self.X = None\n",
    "        self.y = None\n",
    "        self.alpha = None\n",
    "        self.b = None\n",
    "        self.w = None\n",
    "        self.precision = 3\n",
    "        self.marginError = 10**(-self.precision)\n",
    "\n",
    "    def fit(self, X, y, alpha):\n",
    "        self.X = X\n",
    "        self.y = y\n",
    "        self.alpha = alpha\n",
    "        # calculate weights\n",
    "        self.w = np.sum(alpha * y * X.T, axis=1)\n",
    "        # get support vectors\n",
    "        self.idx = alpha > 0.0\n",
    "        self.supportVectors = X[self.idx]\n",
    "        self.b = np.round(np.mean(y[self.idx] - np.dot(X[self.idx], self.w)),self.precision)\n",
    "        # Compute the maximum margin\n",
    "        self.margin = np.round(1 / np.linalg.norm(self.w),self.precision)\n",
    "\n",
    "    def predict(self, X):\n",
    "        # Compute the SVM output for input data\n",
    "        distances = np.round(\n",
    "           (np.dot(X, self.w) + self.b) / np.linalg.norm(self.w),self.precision\n",
    "        )\n",
    "        return np.where(\n",
    "            distances <= self.margin,\n",
    "            np.sign(np.dot(X, self.w) + self.b),\n",
    "            -1 * np.sign(np.dot(X, self.w) + self.b),\n",
    "        )\n",
    "\n",
    "    def margin_table(self):\n",
    "        self.distances = np.round(\n",
    "            self.y*(np.dot(self.X, self.w) + self.b) / np.linalg.norm(self.w), self.precision\n",
    "        )\n",
    "        in_margin = np.array(np.abs(self.distances) <= np.abs(self.margin) +  self.marginError).astype(int)\n",
    "        table = pd.DataFrame(\n",
    "            {\n",
    "                \"Data\": [\"X\" + str(i) for i in range(1, len(self.X) + 1)],\n",
    "                \"X1\": [i[0] for i in self.X],\n",
    "                \"X2\": [i[1] for i in self.X],\n",
    "                \"Y\": [i for i in self.y],\n",
    "                \"Distance\": self.distances,\n",
    "                \"In Margin?\": in_margin,\n",
    "            }\n",
    "        )\n",
    "        return table"
   ]
  },
  {
   "cell_type": "code",
   "execution_count": 47,
   "metadata": {},
   "outputs": [
    {
     "name": "stdout",
     "output_type": "stream",
     "text": [
      "X: \n",
      " [[4.  2.9]\n",
      " [4.  4. ]\n",
      " [1.  2.5]\n",
      " [2.5 1. ]\n",
      " [4.9 4.5]\n",
      " [1.9 1.9]\n",
      " [3.5 4. ]\n",
      " [0.5 1.5]\n",
      " [2.  2.1]\n",
      " [4.5 2.5]]\n",
      "y: \n",
      " [ 1.  1. -1. -1.  1. -1.  1. -1. -1.  1.]\n",
      "alphaLagrange: \n",
      " [0.414 0.    0.    0.018 0.    0.    0.018 0.    0.414 0.   ]\n"
     ]
    }
   ],
   "source": [
    "# initialise data\n",
    "X = np.array([4, 2.9, 4, 4, 1, 2.5, 2.5, 1, 4.9, 4.5, 1.9, 1.9, 3.5, 4, 0.5, 1.5, 2, 2.1,4.5, 2.5]).astype(np.float64).reshape(10, 2)\n",
    "print(\"X: \\n\", X)\n",
    "\n",
    "y = np.array([1, 1, -1, -1, 1, -1, 1, -1, -1, 1]).astype(np.float64)\n",
    "print(\"y: \\n\", y)\n",
    "\n",
    "alpha = np.array([0.414, 0, 0, 0.018, 0, 0, 0.018, 0, 0.414, 0]).astype(np.float64)\n",
    "print(\"alphaLagrange: \\n\", alpha)"
   ]
  },
  {
   "cell_type": "code",
   "execution_count": 48,
   "metadata": {},
   "outputs": [
    {
     "name": "stdout",
     "output_type": "stream",
     "text": [
      "Coefficients of the hyperplane:\n",
      "w = [0.846  0.3852]\n",
      "b = -3.501\n",
      "max margin = 1.076\n",
      "eqautionf of hyperplane can be given as \n",
      " h(x) = [0.846  0.3852].T * x + -3.501\n",
      "support vectors : \n",
      " [[4.  2.9]\n",
      " [2.5 1. ]\n",
      " [3.5 4. ]\n",
      " [2.  2.1]]\n",
      "  Data   X1   X2    Y  Distance  In Margin?\n",
      "0   X1  4.0  2.9  1.0     1.076           1\n",
      "1   X2  4.0  4.0  1.0     1.532           0\n",
      "2   X3  1.0  2.5 -1.0     1.820           0\n",
      "3   X4  2.5  1.0 -1.0     1.077           1\n",
      "4   X5  4.9  4.5  1.0     2.558           0\n",
      "5   X6  1.9  1.9 -1.0     1.250           0\n",
      "6   X7  3.5  4.0  1.0     1.077           1\n",
      "7   X8  0.5  1.5 -1.0     2.690           0\n",
      "8   X9  2.0  2.1 -1.0     1.076           1\n",
      "9  X10  4.5  2.5  1.0     1.365           0\n",
      "[3 3] belongs to class 1.0\n"
     ]
    }
   ],
   "source": [
    "# Run simple SVM\n",
    "simple_SVM = SVM()\n",
    "simple_SVM.fit(X, y, alpha)\n",
    "\n",
    "# Print the coefficients of the hyperplane\n",
    "print(\"Coefficients of the hyperplane:\")\n",
    "print(\"w =\", simple_SVM.w)\n",
    "print(\"b =\", simple_SVM.b)\n",
    "print(\"max margin =\",simple_SVM.margin)\n",
    "print(f'eqautionf of hyperplane can be given as \\n h(x) = {simple_SVM.w}.T * x + {simple_SVM.b}')\n",
    "\n",
    "print(f'support vectors : \\n {simple_SVM.supportVectors}' )\n",
    "margin_table = simple_SVM.margin_table()\n",
    "print(margin_table)\n",
    "test = np.array([3,3])\n",
    "result = simple_SVM.predict(test)\n",
    "print(f'{test} belongs to class {result}')\n"
   ]
  },
  {
   "cell_type": "code",
   "execution_count": 49,
   "metadata": {},
   "outputs": [
    {
     "data": {
      "image/png": "[encoded data removed]",
      "text/plain": [
       "<Figure size 640x480 with 1 Axes>"
      ]
     },
     "metadata": {},
     "output_type": "display_data"
    }
   ],
   "source": [
    "# Plot the data points\n",
    "fig, ax = plt.subplots()\n",
    "X_new = np.append(X,[test],axis=0)\n",
    "y_new = np.append(y,[result],axis=0)\n",
    "ax.scatter(np.array(X_new)[:, 0], np.array(X_new)[:, 1], c=y_new)\n",
    "\n",
    "# Plot the hyperplane\n",
    "xlim = ax.get_xlim()\n",
    "ylim = ax.get_ylim()\n",
    "xx = np.linspace(xlim[0], xlim[1])\n",
    "yy = np.linspace(ylim[0], ylim[1])\n",
    "YY, XX = np.meshgrid(yy, xx)\n",
    "xy = np.vstack([XX.ravel(), YY.ravel()]).T\n",
    "Z = (np.dot(xy, simple_SVM.w) + simple_SVM.b).reshape(XX.shape)\n",
    "ax.contour(XX, YY, Z, colors='k', levels=[-simple_SVM.margin, 0, simple_SVM.margin], alpha=0.5,\n",
    "           linestyles=['--', '-', '--'])\n",
    "ax.scatter(simple_SVM.supportVectors[:, 0], simple_SVM.supportVectors[:, 1], s=100,\n",
    "           linewidth=1, facecolors='none', edgecolors='k')\n",
    "plt.show()\n"
   ]
  },
  {
   "cell_type": "code",
   "execution_count": 50,
   "metadata": {},
   "outputs": [],
   "source": [
    "# create a numpy array with 10 rows and 2 columns\n",
    "arr = np.zeros((10,2))\n",
    "\n",
    "# create a new row to append\n",
    "new_row = np.array([3, 3])\n",
    "\n",
    "# append the new row to the numpy array\n",
    "arr = np.append(arr, [new_row], axis=0)"
   ]
  },
  {
   "attachments": {},
   "cell_type": "markdown",
   "metadata": {},
   "source": [
    "As we can see from the "
   ]
  }
 ],
 "metadata": {
  "kernelspec": {
   "display_name": "tf_venv",
   "language": "python",
   "name": "tf_venv"
  },
  "language_info": {
   "codemirror_mode": {
    "name": "ipython",
    "version": 3
   },
   "file_extension": ".py",
   "mimetype": "text/x-python",
   "name": "python",
   "nbconvert_exporter": "python",
   "pygments_lexer": "ipython3",
   "version": "3.10.0"
  },
  "orig_nbformat": 4
 },
 "nbformat": 4,
 "nbformat_minor": 2
}
