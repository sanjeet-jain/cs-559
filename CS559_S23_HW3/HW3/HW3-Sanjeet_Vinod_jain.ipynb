{
 "cells": [
  {
   "attachments": {},
   "cell_type": "markdown",
   "metadata": {},
   "source": [
    "this jupyer notebook uses Python 3.10 as its kernel !"
   ]
  },
  {
   "attachments": {},
   "cell_type": "markdown",
   "metadata": {},
   "source": [
    "# SVM"
   ]
  },
  {
   "attachments": {},
   "cell_type": "markdown",
   "metadata": {},
   "source": [
    "| Data | Xi1 | Xi2 | Yi  | αi    |\n",
    "| ---- | --- | --- | --- | ----- |\n",
    "| X1   | 4   | 2.9 | 1   | 0.414 |\n",
    "| X2   | 4   | 4   | 1   | 0     |\n",
    "| X3   | 1   | 2.5 | -1  | 0     |\n",
    "| X4   | 2.5 | 1   | -1  | 0.018 |\n",
    "| X5   | 4.9 | 4.5 | 1   | 0     |\n",
    "| X6   | 1.9 | 1.9 | -1  | 0     |\n",
    "| X7   | 3.5 | 4   | 1   | 0.018 |\n",
    "| X8   | 0.5 | 1.5 | -1  | 0     |\n",
    "| X9   | 2   | 2.1 | -1  | 0.414 |\n",
    "| X10  | 4.5 | 2.5 | 1   | 0     |\n"
   ]
  },
  {
   "attachments": {},
   "cell_type": "markdown",
   "metadata": {},
   "source": [
    "[25 pts] Support Vector Machines: Given 10 points in Table 1, along with their classes and their Lagrangian multipliers (αi), answer the following questions. The solution is already provided in the lecture slide.\n",
    "\n",
    "[10 pts] Using NumPy, implement a simple SVM that returns the coefficients of the hyperplane. The simple SVM does not require an SDG approach. The simple SVM has three arguments, X, Y, and α, as simple_SVM(X,Y,alpha). What is the equation of h(x)? Draw the hyperplane with the 10 points.\n",
    "\n",
    "[10 pts] Write a method that calculates the distance of each point from the hyperplane and returns a binary result if a point is within the margin. If a point is in the margin, the binary result is 1 and 0 otherwise. What is the maximized margin? Return the result in the table format as shown.\n",
    "\n",
    "| Data | Distance | In Margin? |\n",
    "| ---- | -------- | ---------- |\n",
    "| x*1  | D*1      | {0,1}      |\n",
    "| ⋮    | ⋮        | ⋮          |\n",
    "| x*10 | D_10     | {0,1}      |\n",
    "\n",
    "[5 pts] Classify the point z = (3, 3)T using h(x) from above.\n"
   ]
  },
  {
   "attachments": {},
   "cell_type": "markdown",
   "metadata": {},
   "source": [
    "We are given a set of 10 points along with their classes and Lagrangian multipliers.\n",
    "We can solve for the coefficients of the hyperplane using the following algorithm for SVM:\n",
    "For calculating the weight vector, we have:\n",
    "\n",
    "w = Σ(αi * yi * xi)\n",
    "\n",
    "And for calculating the bias, we have:\n",
    "\n",
    "b = yi - w^T xi\n",
    "\n",
    "Once we have calculated the weight vector and bias, we can use them to classify new data points using the hyperplane function:\n",
    "\n",
    "h(x) = w^T x + b\n",
    "\n",
    "where x is the new data point.\n",
    "\n",
    "To calculate the distance of each point from the hyperplane, we use the formula:\n",
    "\n",
    "distance = |h(x)| / ||w||\n",
    "\n",
    "where ||w|| is the norm of the weight vector.\n",
    "\n",
    "Finally, to calculate the margin, we need to find the distance between the hyperplane and the closest data point from either class. This can be done by iterating over all the data points and finding the minimum distance for each class."
   ]
  },
  {
   "cell_type": "code",
   "execution_count": 324,
   "metadata": {},
   "outputs": [],
   "source": [
    "# imports for SVM\n",
    "import numpy as np\n",
    "import matplotlib.pyplot as plt\n",
    "import pandas as pd"
   ]
  },
  {
   "cell_type": "code",
   "execution_count": 325,
   "metadata": {},
   "outputs": [],
   "source": [
    "# i have used around to around the decimal calculations to 2 decimal places\n",
    "class SVM:\n",
    "    def __init__(self):\n",
    "        self.X = None\n",
    "        self.y = None\n",
    "        self.alpha = None\n",
    "        self.b = None\n",
    "        self.w = None\n",
    "        self.precision = 3\n",
    "        self.marginError = 10**(-self.precision)\n",
    "\n",
    "    def fit(self, X, y, alpha):\n",
    "        self.X = X\n",
    "        self.y = y\n",
    "        self.alpha = alpha\n",
    "        # calculate weights\n",
    "        self.w = np.sum(alpha * y * X.T, axis=1)\n",
    "        # get support vectors\n",
    "        self.idx = alpha > 0.0\n",
    "        self.supportVectors = X[self.idx]\n",
    "        self.b = np.around(np.mean(y[self.idx] - np.dot(X[self.idx], self.w)),self.precision)\n",
    "        # Compute the maximum margin\n",
    "        self.margin = np.around(1 / np.linalg.norm(self.w),self.precision)\n",
    "\n",
    "    def predict(self, X):\n",
    "        # Compute the SVM output for input data\n",
    "        distances = np.around(\n",
    "           (np.dot(X, self.w) + self.b) / np.linalg.norm(self.w),self.precision\n",
    "        )\n",
    "        return np.where(\n",
    "            distances <= self.margin,\n",
    "            np.sign(np.dot(X, self.w) + self.b),\n",
    "            -1 * np.sign(np.dot(X, self.w) + self.b),\n",
    "        )\n",
    "\n",
    "    def margin_table(self):\n",
    "        self.distances = np.around(\n",
    "            self.y*(np.dot(self.X, self.w) + self.b) / np.linalg.norm(self.w), self.precision\n",
    "        )\n",
    "        in_margin = np.array(np.abs(self.distances) <= np.abs(self.margin)+self.marginError ).astype(int)\n",
    "        table = pd.DataFrame(\n",
    "            {\n",
    "                \"Data\": [\"X\" + str(i) for i in range(1, len(self.X) + 1)],\n",
    "                \"X1\": [i[0] for i in self.X],\n",
    "                \"X2\": [i[1] for i in self.X],\n",
    "                \"Y\": [i for i in self.y],\n",
    "                \"Distance\": self.distances,\n",
    "                \"In Margin?\": in_margin,\n",
    "            }\n",
    "        )\n",
    "        return table"
   ]
  },
  {
   "cell_type": "code",
   "execution_count": 326,
   "metadata": {},
   "outputs": [
    {
     "name": "stdout",
     "output_type": "stream",
     "text": [
      "X: \n",
      " [[4.  2.9]\n",
      " [4.  4. ]\n",
      " [1.  2.5]\n",
      " [2.5 1. ]\n",
      " [4.9 4.5]\n",
      " [1.9 1.9]\n",
      " [3.5 4. ]\n",
      " [0.5 1.5]\n",
      " [2.  2.1]\n",
      " [4.5 2.5]]\n",
      "y: \n",
      " [ 1.  1. -1. -1.  1. -1.  1. -1. -1.  1.]\n",
      "alphaLagrange: \n",
      " [0.414 0.    0.    0.018 0.    0.    0.018 0.    0.414 0.   ]\n"
     ]
    }
   ],
   "source": [
    "# initialise data\n",
    "X = np.array([4, 2.9, 4, 4, 1, 2.5, 2.5, 1, 4.9, 4.5, 1.9, 1.9, 3.5, 4, 0.5, 1.5, 2, 2.1,4.5, 2.5]).astype(np.float64).reshape(10, 2)\n",
    "print(\"X: \\n\", X)\n",
    "\n",
    "y = np.array([1, 1, -1, -1, 1, -1, 1, -1, -1, 1]).astype(np.float64)\n",
    "print(\"y: \\n\", y)\n",
    "\n",
    "alpha = np.array([0.414, 0, 0, 0.018, 0, 0, 0.018, 0, 0.414, 0]).astype(np.float64)\n",
    "print(\"alphaLagrange: \\n\", alpha)\n",
    "\n"
   ]
  },
  {
   "cell_type": "code",
   "execution_count": 327,
   "metadata": {},
   "outputs": [
    {
     "name": "stdout",
     "output_type": "stream",
     "text": [
      "Coefficients of the hyperplane:\n",
      "w = [0.846  0.3852]\n",
      "b = -3.501\n",
      "max margin = 1.076\n",
      "\n",
      " eqautionf of hyperplane can be given as \n",
      " h(x) = [0.846  0.3852].T * x + -3.501\n",
      "\n",
      " support vectors : \n",
      " [[4.  2.9]\n",
      " [2.5 1. ]\n",
      " [3.5 4. ]\n",
      " [2.  2.1]]\n",
      "\n",
      " margin Table : \n",
      "   Data   X1   X2    Y  Distance  In Margin?\n",
      "0   X1  4.0  2.9  1.0     1.076           1\n",
      "1   X2  4.0  4.0  1.0     1.532           0\n",
      "2   X3  1.0  2.5 -1.0     1.820           0\n",
      "3   X4  2.5  1.0 -1.0     1.077           1\n",
      "4   X5  4.9  4.5  1.0     2.558           0\n",
      "5   X6  1.9  1.9 -1.0     1.250           0\n",
      "6   X7  3.5  4.0  1.0     1.077           1\n",
      "7   X8  0.5  1.5 -1.0     2.690           0\n",
      "8   X9  2.0  2.1 -1.0     1.076           1\n",
      "9  X10  4.5  2.5  1.0     1.365           0\n",
      "\n",
      " \n",
      " [3 3] belongs to class 1.0\n"
     ]
    }
   ],
   "source": [
    "# Run simple SVM\n",
    "simple_SVM = SVM()\n",
    "simple_SVM.fit(X, y, alpha)\n",
    "\n",
    "# Print the coefficients of the hyperplane\n",
    "print(\"Coefficients of the hyperplane:\")\n",
    "print(\"w =\", simple_SVM.w)\n",
    "print(\"b =\", simple_SVM.b)\n",
    "print(\"max margin =\",simple_SVM.margin)\n",
    "print(f'\\n eqautionf of hyperplane can be given as \\n h(x) = {simple_SVM.w}.T * x + {simple_SVM.b}')\n",
    "\n",
    "print(f'\\n support vectors : \\n {simple_SVM.supportVectors}' )\n",
    "margin_table = simple_SVM.margin_table()\n",
    "print(f'\\n margin Table : \\n {margin_table}')\n",
    "test = np.array([3,3])\n",
    "result = simple_SVM.predict(test)\n",
    "print(f'\\n \\n {test} belongs to class {result}')\n"
   ]
  },
  {
   "cell_type": "code",
   "execution_count": 328,
   "metadata": {},
   "outputs": [
    {
     "data": {
      "image/png": "[encoded data removed]",
      "text/plain": [
       "<Figure size 640x480 with 1 Axes>"
      ]
     },
     "metadata": {},
     "output_type": "display_data"
    }
   ],
   "source": [
    "# Plot the data points\n",
    "fig, ax = plt.subplots()\n",
    "# X = np.append(X,[test],axis=0)\n",
    "# y = np.append(y,[result],axis=0)\n",
    "scatter1 = ax.scatter(np.array(X)[y == -1, 0], np.array(X)[y == -1, 1], c='r', label='Class -1')\n",
    "scatter2 = ax.scatter(np.array(X)[y == 1, 0], np.array(X)[y == 1, 1], c='b', label='Class 1')\n",
    "\n",
    "# Plot the hyperplane and margins\n",
    "xlim = ax.get_xlim()\n",
    "ylim = ax.get_ylim()\n",
    "xx = np.linspace(xlim[0], xlim[1])\n",
    "yy = np.linspace(ylim[0], ylim[1])\n",
    "YY, XX = np.meshgrid(yy, xx)\n",
    "xy = np.vstack([XX.ravel(), YY.ravel()]).T\n",
    "Z = (np.dot(xy, simple_SVM.w) + simple_SVM.b).reshape(XX.shape)\n",
    "ax.contour(XX, YY, Z, colors='k', levels=[-1, 0, 1], alpha=0.5,\n",
    "           linestyles=['--', '-', '--'])\n",
    "ax.contourf(XX, YY, Z, levels=[-np.inf, -1, 0, 1, np.inf], alpha=0.2,colors=['red', 'white','white', 'blue'])\n",
    "ax.scatter(simple_SVM.supportVectors[:, 0], simple_SVM.supportVectors[:, 1], s=100,\n",
    "           linewidth=1, facecolors='none', edgecolors='k')\n",
    "for i in range(len(simple_SVM.distances)):\n",
    "    # if y[i] == 1:\n",
    "    #     direction = -1\n",
    "    # else:\n",
    "    #     direction = 1\n",
    "    # normal_vector = simple_SVM.w / np.linalg.norm(simple_SVM.w)\n",
    "    # p0 = X[i]\n",
    "    # p1 = p0 + direction * simple_SVM.distances[i] * normal_vector\n",
    "    # ax.plot([p0[0], p1[0]], [p0[1], p1[1]], '--k')\n",
    "    ax.annotate(\"{:.3f}\".format(simple_SVM.distances[i]), (X[i][0], X[i][1]), textcoords=\"offset points\", xytext=(-8,-8))\n",
    "plt.legend(handles=[scatter1, scatter2])\n",
    "plt.show()\n"
   ]
  },
  {
   "attachments": {},
   "cell_type": "markdown",
   "metadata": {},
   "source": [
    "As we can see from the graph and output before we have all the Support vectors to be within or on the margin\n",
    "\n",
    "the new point to which was classified using the SVM [3,3] was classified correctly as class 1"
   ]
  },
  {
   "attachments": {},
   "cell_type": "markdown",
   "metadata": {},
   "source": [
    "# Neural Network"
   ]
  },
  {
   "cell_type": "code",
   "execution_count": 329,
   "metadata": {},
   "outputs": [],
   "source": [
    "# my jupyter notebook uses python 3.10 and wasnt able to use cPickle so had to use pickle instead to load the dataset \n",
    "# import cPickle, gzip, numpy\n",
    "# # Load the dataset\n",
    "# f = gzip.open('mnist.pkl.gz', 'rb')\n",
    "# train_set, valid_set, test_set = cPickle.load(f)\n",
    "# f.close()\n"
   ]
  },
  {
   "cell_type": "code",
   "execution_count": 330,
   "metadata": {},
   "outputs": [],
   "source": [
    "#imports for the cells below \n",
    "import gzip\n",
    "import pickle\n",
    "import numpy as np\n",
    "import matplotlib.pyplot as plt\n",
    "import pandas as pd"
   ]
  },
  {
   "cell_type": "code",
   "execution_count": 331,
   "metadata": {},
   "outputs": [],
   "source": [
    "\n",
    "\n",
    "train_set, valid_set, test_set = None , None, None \n",
    "with gzip.open('./mnist-1.pkl.gz', 'rb') as f:\n",
    "    train_set, valid_set, test_set  = pickle.load(f, encoding='latin1')"
   ]
  },
  {
   "cell_type": "code",
   "execution_count": 332,
   "metadata": {},
   "outputs": [
    {
     "name": "stdout",
     "output_type": "stream",
     "text": [
      "Train set: (array([[0., 0., 0., ..., 0., 0., 0.],\n",
      "       [0., 0., 0., ..., 0., 0., 0.],\n",
      "       [0., 0., 0., ..., 0., 0., 0.],\n",
      "       ...,\n",
      "       [0., 0., 0., ..., 0., 0., 0.],\n",
      "       [0., 0., 0., ..., 0., 0., 0.],\n",
      "       [0., 0., 0., ..., 0., 0., 0.]], dtype=float32), array([5, 0, 4, ..., 8, 4, 8], dtype=int64))\n",
      "Valid set: (array([[0., 0., 0., ..., 0., 0., 0.],\n",
      "       [0., 0., 0., ..., 0., 0., 0.],\n",
      "       [0., 0., 0., ..., 0., 0., 0.],\n",
      "       ...,\n",
      "       [0., 0., 0., ..., 0., 0., 0.],\n",
      "       [0., 0., 0., ..., 0., 0., 0.],\n",
      "       [0., 0., 0., ..., 0., 0., 0.]], dtype=float32), array([3, 8, 6, ..., 5, 6, 8], dtype=int64))\n",
      "Test set: (array([[0., 0., 0., ..., 0., 0., 0.],\n",
      "       [0., 0., 0., ..., 0., 0., 0.],\n",
      "       [0., 0., 0., ..., 0., 0., 0.],\n",
      "       ...,\n",
      "       [0., 0., 0., ..., 0., 0., 0.],\n",
      "       [0., 0., 0., ..., 0., 0., 0.],\n",
      "       [0., 0., 0., ..., 0., 0., 0.]], dtype=float32), array([7, 2, 1, ..., 4, 5, 6], dtype=int64))\n",
      "X_train shape: (50000, 784)\n",
      "y_train shape: (50000,)\n"
     ]
    }
   ],
   "source": [
    "# Check that the datasets are loaded correctly\n",
    "print(\"Train set:\", train_set)\n",
    "print(\"Valid set:\", valid_set)\n",
    "print(\"Test set:\", test_set)\n",
    "\n",
    "# Access the train_set variable\n",
    "X_train, y_train = train_set\n",
    "print(\"X_train shape:\", X_train.shape)\n",
    "print(\"y_train shape:\", y_train.shape)"
   ]
  },
  {
   "cell_type": "code",
   "execution_count": 333,
   "metadata": {},
   "outputs": [
    {
     "data": {
      "image/png": "[encoded data removed]",
      "text/plain": [
       "<Figure size 800x800 with 10 Axes>"
      ]
     },
     "metadata": {},
     "output_type": "display_data"
    }
   ],
   "source": [
    "# just wanted to see what the data looks like as an image \n",
    "sample_size = 10\n",
    "images = X_train[:sample_size]\n",
    "labels = y_train[:sample_size]\n",
    "\n",
    "# Reshape the images from 1D to 2D arrays\n",
    "images = images.reshape((-1, 28, 28))\n",
    "\n",
    "# Plot the images as subplots in a 5x5 grid\n",
    "fig, axes = plt.subplots(nrows=1, ncols=sample_size, figsize=(8, 8))\n",
    "for i, ax in enumerate(axes.flat):\n",
    "    # Plot image\n",
    "    ax.imshow(images[i], cmap='gray')\n",
    "    # Set title to the corresponding label\n",
    "    ax.set_title(str(labels[i]))\n",
    "    # Remove ticks and labels\n",
    "    ax.set_xticks([])\n",
    "    ax.set_yticks([])\n",
    "    ax.set_xlabel('')\n",
    "    ax.set_ylabel('')\n",
    "\n",
    "# Show the plot\n",
    "plt.tight_layout()\n",
    "plt.show()"
   ]
  },
  {
   "cell_type": "code",
   "execution_count": 334,
   "metadata": {},
   "outputs": [],
   "source": [
    "import sklearn.neural_network \n"
   ]
  }
 ],
 "metadata": {
  "kernelspec": {
   "display_name": "tf_venv",
   "language": "python",
   "name": "tf_venv"
  },
  "language_info": {
   "codemirror_mode": {
    "name": "ipython",
    "version": 3
   },
   "file_extension": ".py",
   "mimetype": "text/x-python",
   "name": "python",
   "nbconvert_exporter": "python",
   "pygments_lexer": "ipython3",
   "version": "3.10.0"
  },
  "orig_nbformat": 4
 },
 "nbformat": 4,
 "nbformat_minor": 2
}
