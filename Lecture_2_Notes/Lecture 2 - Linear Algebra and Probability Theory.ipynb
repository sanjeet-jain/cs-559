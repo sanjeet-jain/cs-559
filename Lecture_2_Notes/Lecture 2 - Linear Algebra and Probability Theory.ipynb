{
 "cells": [
  {
   "cell_type": "markdown",
   "id": "knowing-embassy",
   "metadata": {},
   "source": [
    "# <center> CS 559 Machine Learning: Fundamentals \\& Application </center>\n",
    "## <center> Lecture 1 - Linear Algebra and Proability Theory </center>\n",
    "\n",
    "### Outline\n",
    "- <a href=\"course\">Course Information</a><br>\n",
    "- <a href=\"Python1\">Python Reivew I: Starting Data Science Python</a><br>\n",
    "- <a href=\"Python2\">Python Review II: Visualization</a><br>\n",
    "- <a href=\"LA\">Linear Algebra</a><br>\n",
    "- <a href=\"PT\">Probability Theory</a><br>"
   ]
  },
  {
   "cell_type": "markdown",
   "id": "unlike-division",
   "metadata": {},
   "source": [
    "<p><a name=\"Python1\"></a></p>\n",
    "\n",
    "### <center> Python Review 1: Starting Data Science with Python</center>\n",
    "\n",
    "This review focuses on basic knowledge of python you must have to do Machine Learning and Data Science.\n",
    "- Jupyter Notebook is a user-friendly computational environment for data scientists. \n",
    "    - Stores work automatically\n",
    "    - Markdown allows to export work in pdf, html, etc. for presentations, notes, etc. \n",
    "- Why python? \n",
    "    - It distinguishes itself from other languages by its flexibility, simplicity, and reliable tools. \n",
    "    - It is consistent and is anchored on simplicity which makes it most appropriate for machine learning. \n",
    "    - It fits the best on machine learning due to its independent platform and its popularity in the programming community. \n",
    "    - We have other languages to do machine learning projects such as R and MATLAB.\n",
    "        - R and MATLAB are more specialized in specific fields (statistics, mathematics, and bioinformatics)\n",
    "        - Python is much convenient to do data mining and text analysis. \n",
    "\n",
    "\n",
    "<p><a name=\"Jupyter\"></a></p>\n",
    "\n",
    "#### Jupyter Notebook\n",
    "- Code\n",
    "    - Coding is same as working on commend lines.\n",
    "    - It is much convient in ways...\n",
    "        - stores everything - do not need to recall variables in different cells\n",
    "        - saves work automatically\n",
    "        - easy to follow work - tables, plots, etc... \n",
    "- Makrdown\n",
    "    - It runs same as Latex\n",
    "        - Easy to make comments, equations, etc... \n",
    "- Useful links\n",
    "    - https://www.dataquest.io/blog/jupyter-notebook-tutorial/\n",
    "        \n",
    "\n",
    "<p><a name=\"Functions\"></a></p>\n",
    "\n",
    "#### Functions:\n",
    "\n",
    "A function is a rule for taking zero or more inputs and returning a corresponding output. \n",
    "\n",
    "In Python, we typically define functions using `def`:\n",
    "- As an explample, if we want to create a function the doubles the input number, we can do as following. "
   ]
  },
  {
   "cell_type": "code",
   "execution_count": 1,
   "id": "dense-collar",
   "metadata": {},
   "outputs": [],
   "source": [
    "def double(x):\n",
    "    \"\"\"This is where you put an optional docstring that explains what the function does.\"\"\"\n",
    "    return x*2"
   ]
  },
  {
   "cell_type": "code",
   "execution_count": 2,
   "id": "annoying-central",
   "metadata": {},
   "outputs": [
    {
     "name": "stdout",
     "output_type": "stream",
     "text": [
      "4\n"
     ]
    }
   ],
   "source": [
    "my_double=double(2)\n",
    "print(my_double)"
   ]
  },
  {
   "cell_type": "markdown",
   "id": "creative-cornell",
   "metadata": {},
   "source": [
    "My double of function `double` with $x=2$ is 4."
   ]
  },
  {
   "cell_type": "code",
   "execution_count": 3,
   "id": "jewish-ultimate",
   "metadata": {},
   "outputs": [
    {
     "name": "stdout",
     "output_type": "stream",
     "text": [
      "2000\n"
     ]
    }
   ],
   "source": [
    "x = double(1000)\n",
    "print(x)"
   ]
  },
  {
   "cell_type": "markdown",
   "id": "yellow-relationship",
   "metadata": {},
   "source": [
    "It is easy to creat short anonymous functions, or `lambda`:\n",
    "- Lambda expressions can write very concise code, but the disadvantages.\n",
    "- How does it different from named functions?\n",
    "    - Can be passed immediately (without variables).\n",
    "    - Only one line of code can be included internally.\n",
    "    - Automatic return of results.\n",
    "    - There is neither a document string nor a name.\n",
    "- Disadvantages:\n",
    "    - Lambda expressions are a strange and unfamiliar syntax to many Python programmers.\n",
    "    - Lambda functions themselves lack names and documentation, meaning that the only way to know what they do is to read the code.\n",
    "    - Lambda expressions can only contain one statement, so some readable language features, such as tuple unpacking, cannot be used with them.\n",
    "    - Lambda functions can often be replaced with existing functions in the standard library or Python built-in functions.\n"
   ]
  },
  {
   "cell_type": "code",
   "execution_count": 4,
   "id": "genuine-carrier",
   "metadata": {},
   "outputs": [
    {
     "name": "stdout",
     "output_type": "stream",
     "text": [
      "4\n"
     ]
    }
   ],
   "source": [
    "another_double = lambda x: 2*x\n",
    "print(another_double(2))"
   ]
  },
  {
   "cell_type": "markdown",
   "id": "approved-insight",
   "metadata": {},
   "source": [
    "<p><a name=\"Strings\"></a></p>\n",
    "\n",
    "#### Strings\n",
    "\n",
    "Strings can be delimited by single or double quotation marks (but the quotes have to match):"
   ]
  },
  {
   "cell_type": "code",
   "execution_count": 5,
   "id": "mighty-skirt",
   "metadata": {},
   "outputs": [
    {
     "name": "stdout",
     "output_type": "stream",
     "text": [
      "Machine Learning\n",
      "Machine Learning\n"
     ]
    }
   ],
   "source": [
    "single_quoted_string = 'Machine Learning'\n",
    "double_quoted_string = \"Machine Learning\"\n",
    "print(single_quoted_string)\n",
    "print(double_quoted_string)"
   ]
  },
  {
   "cell_type": "markdown",
   "id": "sharp-courtesy",
   "metadata": {},
   "source": [
    "Python uses backslashes to encode special characters. "
   ]
  },
  {
   "cell_type": "code",
   "execution_count": 6,
   "id": "laden-training",
   "metadata": {},
   "outputs": [
    {
     "name": "stdout",
     "output_type": "stream",
     "text": [
      "Machine\t Learning 17\n",
      "Machine Learning 16\n"
     ]
    }
   ],
   "source": [
    "single_quoted_string = 'Machine\\t Learning'\n",
    "double_quoted_string = \"Machine Learning\"\n",
    "print(single_quoted_string, len(single_quoted_string))\n",
    "print(double_quoted_string, len(double_quoted_string))"
   ]
  },
  {
   "cell_type": "code",
   "execution_count": 7,
   "id": "informal-console",
   "metadata": {},
   "outputs": [
    {
     "data": {
      "text/plain": [
       "'h'"
      ]
     },
     "execution_count": 7,
     "metadata": {},
     "output_type": "execute_result"
    }
   ],
   "source": [
    "single_quoted_string[3]"
   ]
  },
  {
   "cell_type": "markdown",
   "id": "fossil-headquarters",
   "metadata": {},
   "source": [
    "<p><a name=\"Strings\"></a></p>\n",
    "\n",
    "#### List\n",
    "\n",
    "- The most fundamental data structure in Python is the `list`. \n",
    "- A list is simply an ordered collection. \n",
    "- You can use either `list()` or square brackets. "
   ]
  },
  {
   "cell_type": "code",
   "execution_count": 8,
   "id": "dutch-buddy",
   "metadata": {},
   "outputs": [],
   "source": [
    "integer_list = [1, 2, 3]\n",
    "heterogeneous_list = [\"string\", 0.1, True]\n",
    "list_of_lists = [integer_list,heterogeneous_list,[]]"
   ]
  },
  {
   "cell_type": "code",
   "execution_count": 9,
   "id": "verbal-gathering",
   "metadata": {},
   "outputs": [
    {
     "data": {
      "text/plain": [
       "[1, 2, 3]"
      ]
     },
     "execution_count": 9,
     "metadata": {},
     "output_type": "execute_result"
    }
   ],
   "source": [
    "integer_list"
   ]
  },
  {
   "cell_type": "code",
   "execution_count": 10,
   "id": "homeless-bookmark",
   "metadata": {},
   "outputs": [
    {
     "data": {
      "text/plain": [
       "['string', 0.1, True]"
      ]
     },
     "execution_count": 10,
     "metadata": {},
     "output_type": "execute_result"
    }
   ],
   "source": [
    "heterogeneous_list"
   ]
  },
  {
   "cell_type": "code",
   "execution_count": 11,
   "id": "little-modem",
   "metadata": {},
   "outputs": [
    {
     "data": {
      "text/plain": [
       "[[1, 2, 3], ['string', 0.1, True], []]"
      ]
     },
     "execution_count": 11,
     "metadata": {},
     "output_type": "execute_result"
    }
   ],
   "source": [
    "list_of_lists"
   ]
  },
  {
   "cell_type": "markdown",
   "id": "planned-afternoon",
   "metadata": {},
   "source": [
    "You can get or set the $n$th element of a list with square brackets:"
   ]
  },
  {
   "cell_type": "code",
   "execution_count": 12,
   "id": "genuine-engine",
   "metadata": {},
   "outputs": [],
   "source": [
    "x=range(10)  # is list [0,1,2,...,9]\n",
    "zero = x[0]  # =0: lists are 0-indexed\n",
    "one = x[1]   #=1\n",
    "nine = x[-1] #=9, \"Pythonic\" for last element\n",
    "eight = x[-2] #=8, for next-to-last element"
   ]
  },
  {
   "cell_type": "code",
   "execution_count": 13,
   "id": "usual-stationery",
   "metadata": {},
   "outputs": [
    {
     "data": {
      "text/plain": [
       "range(0, 10)"
      ]
     },
     "execution_count": 13,
     "metadata": {},
     "output_type": "execute_result"
    }
   ],
   "source": [
    "x"
   ]
  },
  {
   "cell_type": "code",
   "execution_count": 14,
   "id": "minimal-render",
   "metadata": {},
   "outputs": [
    {
     "name": "stdout",
     "output_type": "stream",
     "text": [
      "zero= 0 \n",
      " one= 1 \t nine= 9 8\n"
     ]
    }
   ],
   "source": [
    "print(\"zero=\",zero,\"\\n\",\"one=\",one,\"\\t nine=\",nine,eight)"
   ]
  },
  {
   "cell_type": "markdown",
   "id": "incorporate-marshall",
   "metadata": {},
   "source": [
    "You can \"slice\" lists:"
   ]
  },
  {
   "cell_type": "code",
   "execution_count": 15,
   "id": "aboriginal-rates",
   "metadata": {},
   "outputs": [],
   "source": [
    "first_three = x[:3]\n",
    "three_to_one = x[3:]\n",
    "one_to_four = x[1:5]\n",
    "last_three = x[-3:]\n",
    "without_first_last = x[1:-1]\n",
    "copy_of_x = x[:]"
   ]
  },
  {
   "cell_type": "code",
   "execution_count": 16,
   "id": "marked-prior",
   "metadata": {},
   "outputs": [
    {
     "name": "stdout",
     "output_type": "stream",
     "text": [
      "range(0, 3)\n",
      "range(3, 10)\n",
      "range(1, 5)\n"
     ]
    }
   ],
   "source": [
    "print(first_three)\n",
    "print(three_to_one)\n",
    "print(one_to_four)"
   ]
  },
  {
   "cell_type": "code",
   "execution_count": 17,
   "id": "unsigned-chester",
   "metadata": {},
   "outputs": [
    {
     "data": {
      "text/plain": [
       "True"
      ]
     },
     "execution_count": 17,
     "metadata": {},
     "output_type": "execute_result"
    }
   ],
   "source": [
    "1 in x"
   ]
  },
  {
   "cell_type": "code",
   "execution_count": 18,
   "id": "harmful-holder",
   "metadata": {},
   "outputs": [
    {
     "data": {
      "text/plain": [
       "False"
      ]
     },
     "execution_count": 18,
     "metadata": {},
     "output_type": "execute_result"
    }
   ],
   "source": [
    "10 in x"
   ]
  },
  {
   "cell_type": "code",
   "execution_count": 19,
   "id": "stunning-separation",
   "metadata": {},
   "outputs": [
    {
     "data": {
      "text/plain": [
       "[1, 2, 3, 4, 5, 6]"
      ]
     },
     "execution_count": 19,
     "metadata": {},
     "output_type": "execute_result"
    }
   ],
   "source": [
    "y=[1,2,3]\n",
    "y.extend([4,5,6])\n",
    "y"
   ]
  },
  {
   "cell_type": "code",
   "execution_count": 20,
   "id": "pointed-portsmouth",
   "metadata": {},
   "outputs": [
    {
     "data": {
      "text/plain": [
       "[1, 2, 3, 4, 5, 6, 7, 8, 9]"
      ]
     },
     "execution_count": 20,
     "metadata": {},
     "output_type": "execute_result"
    }
   ],
   "source": [
    "z=y+[7,8,9]\n",
    "z"
   ]
  },
  {
   "cell_type": "code",
   "execution_count": 21,
   "id": "homeless-eugene",
   "metadata": {},
   "outputs": [],
   "source": [
    "z.append(0)"
   ]
  },
  {
   "cell_type": "code",
   "execution_count": 22,
   "id": "realistic-battlefield",
   "metadata": {},
   "outputs": [
    {
     "data": {
      "text/plain": [
       "[1, 2, 3, 4, 5, 6, 7, 8, 9, 0]"
      ]
     },
     "execution_count": 22,
     "metadata": {},
     "output_type": "execute_result"
    }
   ],
   "source": [
    "z"
   ]
  },
  {
   "cell_type": "markdown",
   "id": "minor-festival",
   "metadata": {},
   "source": [
    "It is often convenient to *unpack* lists if you know how many elements they contain:"
   ]
  },
  {
   "cell_type": "code",
   "execution_count": 23,
   "id": "white-jacob",
   "metadata": {},
   "outputs": [
    {
     "name": "stdout",
     "output_type": "stream",
     "text": [
      "X= 1 Y= 2\n"
     ]
    }
   ],
   "source": [
    "X,Y = [1,2]\n",
    "print(\"X=\",X,\"Y=\",Y)"
   ]
  },
  {
   "cell_type": "markdown",
   "id": "hollow-bristol",
   "metadata": {},
   "source": [
    "Tuples are a convenient way to return multiple values from functions:"
   ]
  },
  {
   "cell_type": "code",
   "execution_count": 24,
   "id": "adverse-turtle",
   "metadata": {},
   "outputs": [],
   "source": [
    "def sum_and_product(x,y):\n",
    "    return (x+y),(x*y)"
   ]
  },
  {
   "cell_type": "code",
   "execution_count": 25,
   "id": "proper-cooler",
   "metadata": {},
   "outputs": [],
   "source": [
    "sp = sum_and_product(2,3)"
   ]
  },
  {
   "cell_type": "code",
   "execution_count": 26,
   "id": "fleet-venture",
   "metadata": {},
   "outputs": [],
   "source": [
    "s, p = sum_and_product(2,3)"
   ]
  },
  {
   "cell_type": "code",
   "execution_count": 27,
   "id": "helpful-transsexual",
   "metadata": {},
   "outputs": [
    {
     "data": {
      "text/plain": [
       "(5, 6)"
      ]
     },
     "execution_count": 27,
     "metadata": {},
     "output_type": "execute_result"
    }
   ],
   "source": [
    "sp"
   ]
  },
  {
   "cell_type": "code",
   "execution_count": 28,
   "id": "modern-democracy",
   "metadata": {},
   "outputs": [
    {
     "data": {
      "text/plain": [
       "5"
      ]
     },
     "execution_count": 28,
     "metadata": {},
     "output_type": "execute_result"
    }
   ],
   "source": [
    "s"
   ]
  },
  {
   "cell_type": "code",
   "execution_count": 29,
   "id": "subject-training",
   "metadata": {},
   "outputs": [
    {
     "data": {
      "text/plain": [
       "6"
      ]
     },
     "execution_count": 29,
     "metadata": {},
     "output_type": "execute_result"
    }
   ],
   "source": [
    "p"
   ]
  },
  {
   "cell_type": "markdown",
   "id": "intermediate-plasma",
   "metadata": {},
   "source": [
    "**List Comprehensions**\n",
    "- Frequently, we need to transform a list into another list, by choosing one certain elements, or by transforming elements, or both. "
   ]
  },
  {
   "cell_type": "code",
   "execution_count": 30,
   "id": "indoor-proposal",
   "metadata": {},
   "outputs": [
    {
     "data": {
      "text/plain": [
       "[0, 2, 4]"
      ]
     },
     "execution_count": 30,
     "metadata": {},
     "output_type": "execute_result"
    }
   ],
   "source": [
    "even_numbers = [ x for x in range(5) if x%2==0]\n",
    "even_numbers"
   ]
  },
  {
   "cell_type": "code",
   "execution_count": 31,
   "id": "burning-still",
   "metadata": {},
   "outputs": [
    {
     "data": {
      "text/plain": [
       "[0, 1, 4, 9, 16]"
      ]
     },
     "execution_count": 31,
     "metadata": {},
     "output_type": "execute_result"
    }
   ],
   "source": [
    "squares = [x*x for x in range(5)]\n",
    "squares"
   ]
  },
  {
   "cell_type": "code",
   "execution_count": 32,
   "id": "plastic-barbados",
   "metadata": {},
   "outputs": [
    {
     "data": {
      "text/plain": [
       "[0, 4, 16]"
      ]
     },
     "execution_count": 32,
     "metadata": {},
     "output_type": "execute_result"
    }
   ],
   "source": [
    "even_squares = [x*x for x in even_numbers]\n",
    "even_squares"
   ]
  },
  {
   "cell_type": "code",
   "execution_count": 33,
   "id": "fourth-violin",
   "metadata": {},
   "outputs": [
    {
     "data": {
      "text/plain": [
       "[(0, 0), (0, 1), (0, 2), (1, 0), (1, 1), (1, 2), (2, 0), (2, 1), (2, 2)]"
      ]
     },
     "execution_count": 33,
     "metadata": {},
     "output_type": "execute_result"
    }
   ],
   "source": [
    "pairs = [(x,y) for x in range(3) for y in range(3)]\n",
    "pairs"
   ]
  },
  {
   "cell_type": "markdown",
   "id": "correct-forwarding",
   "metadata": {},
   "source": [
    "<p><a name=\"Dictionaries\"></a></p>\n",
    "\n",
    "#### Dictionaries\n",
    "Another fundamental data structure is a dictionary, which associates values with keys and allows you to quickly retrieve the value corresponding to a give key:"
   ]
  },
  {
   "cell_type": "code",
   "execution_count": 34,
   "id": "adapted-tower",
   "metadata": {},
   "outputs": [],
   "source": [
    "empty_dict1={}\n",
    "empty_dict2=dict()\n",
    "grades = {\"Joel\":80,\"Tim\":95}"
   ]
  },
  {
   "cell_type": "code",
   "execution_count": 35,
   "id": "finished-minister",
   "metadata": {},
   "outputs": [
    {
     "data": {
      "text/plain": [
       "80"
      ]
     },
     "execution_count": 35,
     "metadata": {},
     "output_type": "execute_result"
    }
   ],
   "source": [
    "grades[\"Joel\"]"
   ]
  },
  {
   "cell_type": "code",
   "execution_count": 36,
   "id": "focal-cosmetic",
   "metadata": {},
   "outputs": [
    {
     "ename": "KeyError",
     "evalue": "'Kate'",
     "output_type": "error",
     "traceback": [
      "\u001b[0;31m---------------------------------------------------------------------------\u001b[0m",
      "\u001b[0;31mKeyError\u001b[0m                                  Traceback (most recent call last)",
      "\u001b[0;32m<ipython-input-36-ace1942c7aca>\u001b[0m in \u001b[0;36m<module>\u001b[0;34m\u001b[0m\n\u001b[0;32m----> 1\u001b[0;31m \u001b[0mgrades\u001b[0m\u001b[0;34m[\u001b[0m\u001b[0;34m\"Kate\"\u001b[0m\u001b[0;34m]\u001b[0m\u001b[0;34m\u001b[0m\u001b[0;34m\u001b[0m\u001b[0m\n\u001b[0m",
      "\u001b[0;31mKeyError\u001b[0m: 'Kate'"
     ]
    }
   ],
   "source": [
    "grades[\"Kate\"]"
   ]
  },
  {
   "cell_type": "code",
   "execution_count": 38,
   "id": "large-verification",
   "metadata": {},
   "outputs": [
    {
     "data": {
      "text/plain": [
       "80"
      ]
     },
     "execution_count": 38,
     "metadata": {},
     "output_type": "execute_result"
    }
   ],
   "source": [
    "grades.get(\"Joel\",0)"
   ]
  },
  {
   "cell_type": "code",
   "execution_count": 39,
   "id": "scenic-holocaust",
   "metadata": {},
   "outputs": [
    {
     "data": {
      "text/plain": [
       "80"
      ]
     },
     "execution_count": 39,
     "metadata": {},
     "output_type": "execute_result"
    }
   ],
   "source": [
    "grades.get(\"Joel\")"
   ]
  },
  {
   "cell_type": "markdown",
   "id": "intermediate-retail",
   "metadata": {},
   "source": [
    "We can add new information to the dicitioary. "
   ]
  },
  {
   "cell_type": "code",
   "execution_count": 40,
   "id": "occasional-rogers",
   "metadata": {},
   "outputs": [],
   "source": [
    "grades[\"Kate\"]=100"
   ]
  },
  {
   "cell_type": "code",
   "execution_count": 41,
   "id": "alpha-counter",
   "metadata": {},
   "outputs": [
    {
     "data": {
      "text/plain": [
       "{'Joel': 80, 'Tim': 95, 'Kate': 100}"
      ]
     },
     "execution_count": 41,
     "metadata": {},
     "output_type": "execute_result"
    }
   ],
   "source": [
    "grades"
   ]
  },
  {
   "cell_type": "code",
   "execution_count": 42,
   "id": "meaning-beverage",
   "metadata": {},
   "outputs": [
    {
     "data": {
      "text/plain": [
       "100"
      ]
     },
     "execution_count": 42,
     "metadata": {},
     "output_type": "execute_result"
    }
   ],
   "source": [
    "grades[\"Kate\"]"
   ]
  },
  {
   "cell_type": "markdown",
   "id": "loaded-major",
   "metadata": {},
   "source": [
    "<p><a name=\"Sets\"></a></p>\n",
    "\n",
    "#### Sets\n",
    "Another data structure is `set`, which represents a collection of *distinct* elements. But we use `set` less frequently than `dicts` and `lists` in machine learning projects. "
   ]
  },
  {
   "cell_type": "code",
   "execution_count": 43,
   "id": "interracial-documentary",
   "metadata": {},
   "outputs": [
    {
     "data": {
      "text/plain": [
       "{1}"
      ]
     },
     "execution_count": 43,
     "metadata": {},
     "output_type": "execute_result"
    }
   ],
   "source": [
    "s = set()\n",
    "s.add(1)\n",
    "s"
   ]
  },
  {
   "cell_type": "code",
   "execution_count": 44,
   "id": "cordless-reproduction",
   "metadata": {},
   "outputs": [
    {
     "data": {
      "text/plain": [
       "{1, 2}"
      ]
     },
     "execution_count": 44,
     "metadata": {},
     "output_type": "execute_result"
    }
   ],
   "source": [
    "s.add(2)\n",
    "s"
   ]
  },
  {
   "cell_type": "code",
   "execution_count": 45,
   "id": "thermal-murray",
   "metadata": {},
   "outputs": [],
   "source": [
    "s.add(2)"
   ]
  },
  {
   "cell_type": "code",
   "execution_count": 46,
   "id": "controversial-vitamin",
   "metadata": {},
   "outputs": [
    {
     "data": {
      "text/plain": [
       "{1, 2}"
      ]
     },
     "execution_count": 46,
     "metadata": {},
     "output_type": "execute_result"
    }
   ],
   "source": [
    "s"
   ]
  },
  {
   "cell_type": "code",
   "execution_count": 47,
   "id": "excess-tongue",
   "metadata": {},
   "outputs": [
    {
     "data": {
      "text/plain": [
       "6"
      ]
     },
     "execution_count": 47,
     "metadata": {},
     "output_type": "execute_result"
    }
   ],
   "source": [
    "item_list = [1,2,3,1,2,3]\n",
    "len(item_list)"
   ]
  },
  {
   "cell_type": "code",
   "execution_count": 48,
   "id": "authentic-registrar",
   "metadata": {},
   "outputs": [
    {
     "data": {
      "text/plain": [
       "{1, 2, 3}"
      ]
     },
     "execution_count": 48,
     "metadata": {},
     "output_type": "execute_result"
    }
   ],
   "source": [
    "set(item_list)"
   ]
  },
  {
   "cell_type": "code",
   "execution_count": 49,
   "id": "instructional-member",
   "metadata": {},
   "outputs": [
    {
     "data": {
      "text/plain": [
       "3"
      ]
     },
     "execution_count": 49,
     "metadata": {},
     "output_type": "execute_result"
    }
   ],
   "source": [
    "len(set(item_list))"
   ]
  },
  {
   "cell_type": "code",
   "execution_count": 50,
   "id": "occupied-twelve",
   "metadata": {},
   "outputs": [
    {
     "data": {
      "text/plain": [
       "[1, 2, 3]"
      ]
     },
     "execution_count": 50,
     "metadata": {},
     "output_type": "execute_result"
    }
   ],
   "source": [
    "list(set(item_list))"
   ]
  },
  {
   "cell_type": "markdown",
   "id": "decreased-talent",
   "metadata": {},
   "source": [
    "<p><a name=\"Sortings\"></a></p>\n",
    "\n",
    "#### Sortings\n",
    "\n",
    "`list` has a sort method that sorts it in place without messing up the list. By default, Python sorts a list from smallest to largest. "
   ]
  },
  {
   "cell_type": "code",
   "execution_count": 51,
   "id": "military-marina",
   "metadata": {},
   "outputs": [],
   "source": [
    "x=[4,1,3,2]"
   ]
  },
  {
   "cell_type": "code",
   "execution_count": 52,
   "id": "limiting-swimming",
   "metadata": {},
   "outputs": [
    {
     "data": {
      "text/plain": [
       "[1, 2, 3, 4]"
      ]
     },
     "execution_count": 52,
     "metadata": {},
     "output_type": "execute_result"
    }
   ],
   "source": [
    "sorted(x)"
   ]
  },
  {
   "cell_type": "code",
   "execution_count": 53,
   "id": "surface-click",
   "metadata": {},
   "outputs": [
    {
     "data": {
      "text/plain": [
       "[4, 1, 3, 2]"
      ]
     },
     "execution_count": 53,
     "metadata": {},
     "output_type": "execute_result"
    }
   ],
   "source": [
    "x"
   ]
  },
  {
   "cell_type": "code",
   "execution_count": 54,
   "id": "adjusted-lotus",
   "metadata": {},
   "outputs": [],
   "source": [
    "x.sort()"
   ]
  },
  {
   "cell_type": "code",
   "execution_count": 55,
   "id": "everyday-electric",
   "metadata": {},
   "outputs": [
    {
     "data": {
      "text/plain": [
       "[1, 2, 3, 4]"
      ]
     },
     "execution_count": 55,
     "metadata": {},
     "output_type": "execute_result"
    }
   ],
   "source": [
    "x"
   ]
  },
  {
   "cell_type": "code",
   "execution_count": 56,
   "id": "interpreted-language",
   "metadata": {},
   "outputs": [],
   "source": [
    "x = sorted([-4,1,-2,3], key=abs, reverse=True)"
   ]
  },
  {
   "cell_type": "code",
   "execution_count": 57,
   "id": "future-necessity",
   "metadata": {},
   "outputs": [
    {
     "data": {
      "text/plain": [
       "[-4, 3, -2, 1]"
      ]
     },
     "execution_count": 57,
     "metadata": {},
     "output_type": "execute_result"
    }
   ],
   "source": [
    "x"
   ]
  },
  {
   "cell_type": "code",
   "execution_count": 58,
   "id": "retired-allowance",
   "metadata": {},
   "outputs": [
    {
     "data": {
      "text/plain": [
       "[1, -2, 3, -4]"
      ]
     },
     "execution_count": 58,
     "metadata": {},
     "output_type": "execute_result"
    }
   ],
   "source": [
    "x = sorted([-4,1,-2,3], key=abs, reverse=False)\n",
    "x"
   ]
  },
  {
   "cell_type": "markdown",
   "id": "controversial-oakland",
   "metadata": {},
   "source": [
    "<p><a name=\"Randomness\"></a></p>\n",
    "\n",
    "#### Randomness\n",
    "We will frequently need to generate random numbers with `random` module:"
   ]
  },
  {
   "cell_type": "code",
   "execution_count": 59,
   "id": "phantom-folder",
   "metadata": {},
   "outputs": [],
   "source": [
    "import random"
   ]
  },
  {
   "cell_type": "code",
   "execution_count": 60,
   "id": "persistent-louisville",
   "metadata": {},
   "outputs": [
    {
     "data": {
      "text/plain": [
       "[0.3756138414605835,\n",
       " 0.9021247000882472,\n",
       " 0.15863095277248895,\n",
       " 0.3415177155085064]"
      ]
     },
     "execution_count": 60,
     "metadata": {},
     "output_type": "execute_result"
    }
   ],
   "source": [
    "four_uniform_randoms = [random.random() for _ in range(4)]\n",
    "four_uniform_randoms"
   ]
  },
  {
   "cell_type": "markdown",
   "id": "dangerous-wright",
   "metadata": {},
   "source": [
    "The `random` module actually produces pseudorandom numbers based on an internal state that you can set with `random.seed` if you want to get **reproducible** results:"
   ]
  },
  {
   "cell_type": "code",
   "execution_count": 61,
   "id": "academic-surprise",
   "metadata": {},
   "outputs": [
    {
     "name": "stdout",
     "output_type": "stream",
     "text": [
      "0.5714025946899135\n"
     ]
    }
   ],
   "source": [
    "random.seed(10)\n",
    "print(random.random())"
   ]
  },
  {
   "cell_type": "code",
   "execution_count": 62,
   "id": "searching-scale",
   "metadata": {},
   "outputs": [
    {
     "name": "stdout",
     "output_type": "stream",
     "text": [
      "0.4288890546751146\n"
     ]
    }
   ],
   "source": [
    "print(random.random())"
   ]
  },
  {
   "cell_type": "code",
   "execution_count": 63,
   "id": "respective-patio",
   "metadata": {},
   "outputs": [
    {
     "name": "stdout",
     "output_type": "stream",
     "text": [
      "0.5714025946899135\n"
     ]
    }
   ],
   "source": [
    "random.seed(10)\n",
    "print(random.random())"
   ]
  },
  {
   "cell_type": "code",
   "execution_count": 64,
   "id": "legitimate-classification",
   "metadata": {},
   "outputs": [
    {
     "data": {
      "text/plain": [
       "6"
      ]
     },
     "execution_count": 64,
     "metadata": {},
     "output_type": "execute_result"
    }
   ],
   "source": [
    "random.randrange(3,9)"
   ]
  },
  {
   "cell_type": "code",
   "execution_count": 65,
   "id": "adapted-queen",
   "metadata": {},
   "outputs": [
    {
     "data": {
      "text/plain": [
       "7"
      ]
     },
     "execution_count": 65,
     "metadata": {},
     "output_type": "execute_result"
    }
   ],
   "source": [
    "random.randrange(10)"
   ]
  },
  {
   "cell_type": "code",
   "execution_count": 66,
   "id": "fourth-delivery",
   "metadata": {},
   "outputs": [
    {
     "data": {
      "text/plain": [
       "[9, 0, 3, 7, 6, 2]"
      ]
     },
     "execution_count": 66,
     "metadata": {},
     "output_type": "execute_result"
    }
   ],
   "source": [
    "up_to_ten = range(10)\n",
    "random.sample(up_to_ten, 6)"
   ]
  },
  {
   "cell_type": "markdown",
   "id": "organic-andrew",
   "metadata": {},
   "source": [
    "<p><a name=\"Python2\"></a></p>\n",
    "\n",
    "### <center>Python Review II: Visualization</center>\n",
    "\n",
    "- Visualization is an important techniques in many ways:\n",
    "    - We use it to understand the data sturcuture and to learn about data itself. \n",
    "    - Knowing data in machine learning is essential because it determines everything. \n",
    "    - It can often be an alternative way to present the summary of results\n",
    "- We use the `matplotlib` library, specifically, `matplotlib.pyplot` module.\n"
   ]
  },
  {
   "cell_type": "markdown",
   "id": "dominican-feeding",
   "metadata": {},
   "source": [
    "<p><a name=\"scatter\"></a></p>\n",
    "\n",
    "#### Scatter Plot\n",
    "\n",
    "- A scatterplot is the right choice for visualizing the relationship between two paird sets of data. \n",
    "- Use `scatter`\n",
    "- For a detail: https://matplotlib.org/stable/api/_as_gen/matplotlib.pyplot.scatter.html"
   ]
  },
  {
   "cell_type": "code",
   "execution_count": 67,
   "id": "proved-cameroon",
   "metadata": {},
   "outputs": [],
   "source": [
    "from matplotlib import pyplot as plt"
   ]
  },
  {
   "cell_type": "code",
   "execution_count": 68,
   "id": "expensive-slovakia",
   "metadata": {},
   "outputs": [
    {
     "data": {
      "image/png": "[encoded data removed]",
      "text/plain": [
       "<Figure size 432x288 with 1 Axes>"
      ]
     },
     "metadata": {
      "needs_background": "light"
     },
     "output_type": "display_data"
    }
   ],
   "source": [
    "years=[1950, 1960, 1970, 1980, 1990, 2000, 2010]\n",
    "gdps = [300.2, 543.3, 1075.9, 2862.5, 5979.6, 10289.7, 14958.3]\n",
    "countries = ['A','B','C','D','E','F','G']\n",
    "\n",
    "plt.scatter(years, gdps, color='green',marker='o')\n",
    "plt.title(\"Nominal GDP\")\n",
    "plt.ylabel(\"Billions of $\")\n",
    "plt.show()"
   ]
  },
  {
   "cell_type": "code",
   "execution_count": 69,
   "id": "legal-engineer",
   "metadata": {},
   "outputs": [
    {
     "data": {
      "image/png": "[encoded data removed]",
      "text/plain": [
       "<Figure size 432x288 with 1 Axes>"
      ]
     },
     "metadata": {
      "needs_background": "light"
     },
     "output_type": "display_data"
    }
   ],
   "source": [
    "plt.scatter(years,gdps)\n",
    "for country, year, gdp in zip(countries, years, gdps):\n",
    "    plt.annotate(country,xy=(year,gdp),xytext=(5,-5),textcoords='offset points')\n",
    "plt.title(\"Nominal GDP\")\n",
    "plt.ylabel(\"Billions of $\")\n",
    "plt.show()"
   ]
  },
  {
   "cell_type": "markdown",
   "id": "accepting-panel",
   "metadata": {},
   "source": [
    "<p><a name=\"line\"></a></p>\n",
    "\n",
    "#### Line Charts\n",
    "\n",
    "A line chart is a good choice to visualize the trends using `plot()`.\n",
    "\n",
    "For details: https://matplotlib.org/stable/tutorials/introductory/pyplot.html"
   ]
  },
  {
   "cell_type": "code",
   "execution_count": 70,
   "id": "innovative-cheat",
   "metadata": {},
   "outputs": [
    {
     "data": {
      "image/png": "[encoded data removed]",
      "text/plain": [
       "<Figure size 432x288 with 1 Axes>"
      ]
     },
     "metadata": {
      "needs_background": "light"
     },
     "output_type": "display_data"
    }
   ],
   "source": [
    "plt.scatter(years,gdps,label='Data')\n",
    "for country, year, gdp in zip(countries, years, gdps):\n",
    "    plt.annotate(country,xy=(year,gdp),xytext=(5,-5),textcoords='offset points')\n",
    "plt.plot(years,gdps,linestyle='--',label='Trend')\n",
    "plt.title(\"Nominal GDP\")\n",
    "plt.ylabel(\"Billions of $\")\n",
    "plt.legend()\n",
    "plt.show()"
   ]
  },
  {
   "cell_type": "markdown",
   "id": "bigger-psychology",
   "metadata": {},
   "source": [
    "<p><a name=\"bar\"></a></p>\n",
    "\n",
    "#### Bar Chart\n",
    "\n",
    "A bar chart is used to show how some quantity varies among some discrete set of items. "
   ]
  },
  {
   "cell_type": "code",
   "execution_count": 71,
   "id": "tamil-hampton",
   "metadata": {},
   "outputs": [],
   "source": [
    "movies=[\"Annie Hall\", \"Ben-Hur\", \"Casablanca\",\"Gandhi\",\"West Side Story\"]\n",
    "num_oscars = [5, 11, 3, 8, 10]"
   ]
  },
  {
   "cell_type": "code",
   "execution_count": 72,
   "id": "unlimited-implement",
   "metadata": {},
   "outputs": [
    {
     "data": {
      "image/png": "[encoded data removed]",
      "text/plain": [
       "<Figure size 432x288 with 1 Axes>"
      ]
     },
     "metadata": {
      "needs_background": "light"
     },
     "output_type": "display_data"
    }
   ],
   "source": [
    "xs=[i+0.1 for i, _ in enumerate(movies)]\n",
    "plt.bar(xs, num_oscars)\n",
    "plt.ylabel(\"# of Academy Awards\")\n",
    "plt.title(\"My Favorite Movies\")\n",
    "plt.xticks([i+0.5 for i, _ in enumerate(movies)],movies)\n",
    "plt.show()"
   ]
  },
  {
   "cell_type": "markdown",
   "id": "streaming-action",
   "metadata": {},
   "source": [
    "<p><a name=\"histogram\"></a></p>\n",
    "\n",
    "#### Histogram\n",
    "A bar chart can be used for plotting histograms of bucketed numeric values, in order to visually explore how the values are *distributed*. "
   ]
  },
  {
   "cell_type": "code",
   "execution_count": 73,
   "id": "impaired-chocolate",
   "metadata": {},
   "outputs": [
    {
     "data": {
      "image/png": "[encoded data removed]",
      "text/plain": [
       "<Figure size 432x288 with 1 Axes>"
      ]
     },
     "metadata": {
      "needs_background": "light"
     },
     "output_type": "display_data"
    }
   ],
   "source": [
    "import collections\n",
    "\n",
    "grades=[83, 95, 91, 87, 70, 0, 85, 82, 100, 67, 73, 77, 0]\n",
    "decile = lambda grade: grade//10*10\n",
    "histogram = collections.Counter(decile(grade) for grade in grades)\n",
    "plt.bar([x-4 for x in histogram.keys()], # shift each bar to the left by 4\n",
    "        histogram.values(),              # give each bar its correct height\n",
    "        8)                               # give each bar a width of 8\n",
    "plt.axis([-5, 105, 0, 5]) #x-axis from -5 to 105, y-axis from 0 to 5\n",
    "plt.xticks([10*i for i in range(11)])\n",
    "plt.xlabel(\"Decile\")\n",
    "plt.ylabel(\"# of Students\")\n",
    "plt.title(\"Distribution of Exam 1 Grade\")\n",
    "plt.show()"
   ]
  },
  {
   "cell_type": "markdown",
   "id": "australian-bolivia",
   "metadata": {},
   "source": [
    "<p><a name=\"box\"></a></p>\n",
    "\n",
    "#### Box plot\n",
    "A Box Plot is also known as **Whisker plot** is created to display the summary of the set of data values having properties like minimum, first quartile, median, third quartile and maximum.\n",
    "\n",
    "<img src=\"./boxplot.png\" width=300 height=300 />"
   ]
  },
  {
   "cell_type": "code",
   "execution_count": 74,
   "id": "parliamentary-still",
   "metadata": {},
   "outputs": [
    {
     "data": {
      "image/png": "[encoded data removed]",
      "text/plain": [
       "<Figure size 720x504 with 1 Axes>"
      ]
     },
     "metadata": {
      "needs_background": "light"
     },
     "output_type": "display_data"
    }
   ],
   "source": [
    "import numpy as np\n",
    "\n",
    "# Creating dataset\n",
    "np.random.seed(10)\n",
    "data = np.random.normal(100, 20, 200)\n",
    " \n",
    "fig = plt.figure(figsize =(10, 7))\n",
    " \n",
    "# Creating plot\n",
    "plt.boxplot(data)\n",
    " \n",
    "# show plot\n",
    "plt.show()"
   ]
  },
  {
   "cell_type": "markdown",
   "id": "behind-athens",
   "metadata": {},
   "source": [
    "Quick Note: **Numpy** \n",
    "\n",
    "NumPy is the fundamental package for scientific computing in Python. It is a Python library that provides a multidimensional array object, various derived objects (such as masked arrays and matrices), and an assortment of routines for fast operations on arrays, including mathematical, logical, shape manipulation, sorting, selecting, I/O, discrete Fourier transforms, basic linear algebra, basic statistical operations, random simulation and much more. (https://numpy.org/doc/stable/user/whatisnumpy.html)"
   ]
  },
  {
   "cell_type": "markdown",
   "id": "classical-apple",
   "metadata": {},
   "source": [
    "<p><a name=\"LA\"></a></p>\n",
    "\n",
    "### <center> Linear Algebra</center>\n",
    "\n",
    "\n",
    "\n",
    "### Scalars, Vectors, and Matrices\n",
    "\n",
    "- **Scalars**: a single number ($x$).\n",
    "    - Let $s\\in\\mathbb{R}$ be the slope of the line: real-valued scalar.\n",
    "    - Let $s\\in\\mathbb{N}$ be the number of units: natrual number scalar.\n",
    "- **Vectors**: an array of numbers that are arranged in order (${\\bf x}$ or $\\vec{x}$).\n",
    "     - Elements of vectors: typically written as $x_i$ where $x$ is scalar and the subscript $i$ is the order.\n",
    "     - If each element is in $\\mathbb{R}$ and the vector has $n$ elements, then the vector lies in $\\mathbb{R}^n$.\n",
    "     - ${\\bf x} = \\begin{bmatrix} x_1\\\\ \\vdots\\\\ x_n\\end{bmatrix}$ or \n",
    "     ${\\bf x} = \\begin{bmatrix} x_1 & \\cdots & x_n\\end{bmatrix}$."
   ]
  },
  {
   "cell_type": "markdown",
   "id": "hindu-rates",
   "metadata": {},
   "source": [
    "For details on using `linalg` from `numpy`: https://numpy.org/doc/stable/reference/routines.linalg.html\n",
    "\n",
    "Vectors are presented as lists of numbers:"
   ]
  },
  {
   "cell_type": "code",
   "execution_count": 75,
   "id": "occupational-thriller",
   "metadata": {},
   "outputs": [],
   "source": [
    "import numpy as np"
   ]
  },
  {
   "cell_type": "code",
   "execution_count": 76,
   "id": "daily-quilt",
   "metadata": {},
   "outputs": [],
   "source": [
    "v=[70,170,40]\n",
    "w=[60,150,5]"
   ]
  },
  {
   "cell_type": "code",
   "execution_count": 77,
   "id": "fifteen-voluntary",
   "metadata": {},
   "outputs": [
    {
     "name": "stdout",
     "output_type": "stream",
     "text": [
      "[70, 170, 40] [60, 150, 5]\n"
     ]
    }
   ],
   "source": [
    "print(v, w)"
   ]
  },
  {
   "cell_type": "code",
   "execution_count": 78,
   "id": "sunset-upgrade",
   "metadata": {},
   "outputs": [
    {
     "data": {
      "text/plain": [
       "[70, 170, 40, 60, 150, 5]"
      ]
     },
     "execution_count": 78,
     "metadata": {},
     "output_type": "execute_result"
    }
   ],
   "source": [
    "v+w"
   ]
  },
  {
   "cell_type": "code",
   "execution_count": 79,
   "id": "threatened-pricing",
   "metadata": {},
   "outputs": [
    {
     "name": "stdout",
     "output_type": "stream",
     "text": [
      "v= [[ 70]\n",
      " [170]\n",
      " [ 40]] \n",
      " w= [[ 60]\n",
      " [150]\n",
      " [  5]]\n"
     ]
    }
   ],
   "source": [
    "v=np.array([[70],[170],[40]])\n",
    "w=np.array([[60],[150],[5]])\n",
    "print(\"v=\",v,\"\\n w=\",w)"
   ]
  },
  {
   "cell_type": "code",
   "execution_count": 80,
   "id": "designing-breast",
   "metadata": {},
   "outputs": [
    {
     "data": {
      "text/plain": [
       "array([[130],\n",
       "       [320],\n",
       "       [ 45]])"
      ]
     },
     "execution_count": 80,
     "metadata": {},
     "output_type": "execute_result"
    }
   ],
   "source": [
    "v+w"
   ]
  },
  {
   "cell_type": "code",
   "execution_count": 81,
   "id": "entitled-horizon",
   "metadata": {},
   "outputs": [
    {
     "data": {
      "text/plain": [
       "array([[140],\n",
       "       [340],\n",
       "       [ 80]])"
      ]
     },
     "execution_count": 81,
     "metadata": {},
     "output_type": "execute_result"
    }
   ],
   "source": [
    "2*v"
   ]
  },
  {
   "cell_type": "markdown",
   "id": "fatal-clone",
   "metadata": {},
   "source": [
    "- **Matrix**: a $2-D$ array of numbers ${\\bf A}$.\n",
    "    - ${\\bf A}\\in\\mathbb{R}^{m\\times n}$: A real-valued matrix ${\\bf A}$ has a height of $m$ and a width $n$.\n",
    "    - ${\\bf A} = \\begin{bmatrix} A_{1,1} & \\cdots & A_{1,n}\\\\ \n",
    "    \\vdots & \\ddots & \\vdots\\\\ A_{m,1} & \\cdots & A_{m,n}\\end{bmatrix}$\n",
    "    - Vectors can be considered as matrices that contain only one column.\n",
    "- **Transpose**: The mirror image of the matrix across a diagonal line, called the main diagonal, running down and to the right, staring from its upper left corner. \n",
    "    - ${\\bf A}_{i,j}^T={\\bf A}_{j,i}$\n",
    "    - $\\begin{bmatrix} a_{1,1}&a_{1,2}&a_{1,3}\\\\a_{2,1}&a_{2,2}&a_{2,3}\\\\a_{3,1}&a_{3,2}&a_{3,3}\\end{bmatrix}^T \n",
    "    = \\begin{bmatrix} a_{1,1}&a_{2,1}&a_{3,1}\\\\a_{1,2}&a_{2,2}&a_{3,2}\\\\a_{1,3}&a_{2,3}&a_{3,3}\\end{bmatrix}$\n",
    "    - If ${\\bf x} = \\begin{bmatrix} x_1\\\\ \\vdots\\\\ x_n\\end{bmatrix}$, then \n",
    "    ${\\bf x}^T= \\begin{bmatrix} x_1 & \\cdots & x_n\\end{bmatrix}$\n",
    "    - If ${\\bf A}={\\bf A}^{3\\times2}$, then ${\\bf A}^T={\\bf A}^{2\\times3}$.\n",
    "        - ${\\bf A} = \\begin{bmatrix} 70 & 170 & 40 \\\\ 60 & 150 & 5 \\end{bmatrix}$ \n",
    "        - ${\\bf A}^T = \\begin{bmatrix} 70 & 60 \\\\ 170 & 150 \\\\ 40 & 5 \\end{bmatrix}$ "
   ]
  },
  {
   "cell_type": "code",
   "execution_count": 82,
   "id": "basic-cisco",
   "metadata": {},
   "outputs": [
    {
     "name": "stdout",
     "output_type": "stream",
     "text": [
      "[[ 70 170  40]\n",
      " [ 60 150   5]]\n",
      "(2, 3)\n",
      "2\n"
     ]
    }
   ],
   "source": [
    "A = np.array([[70,170,40],[60,150,5]])\n",
    "print(A)\n",
    "print(A.shape)\n",
    "print(len(A))"
   ]
  },
  {
   "cell_type": "code",
   "execution_count": 83,
   "id": "established-caribbean",
   "metadata": {},
   "outputs": [
    {
     "name": "stdout",
     "output_type": "stream",
     "text": [
      "[[ 70 170  40]\n",
      " [ 60 150   5]]\n",
      "(2, 3)\n",
      "2\n"
     ]
    }
   ],
   "source": [
    "v=np.array([70,170,40])\n",
    "w=np.array([60,150,5])\n",
    "M = np.vstack([v,w])\n",
    "print(M)\n",
    "print(M.shape)\n",
    "print(len(M))"
   ]
  },
  {
   "cell_type": "code",
   "execution_count": 84,
   "id": "growing-trial",
   "metadata": {},
   "outputs": [
    {
     "data": {
      "text/plain": [
       "array([[ 70,  60],\n",
       "       [170, 150],\n",
       "       [ 40,   5]])"
      ]
     },
     "execution_count": 84,
     "metadata": {},
     "output_type": "execute_result"
    }
   ],
   "source": [
    "M.T"
   ]
  },
  {
   "cell_type": "code",
   "execution_count": 85,
   "id": "developed-convergence",
   "metadata": {},
   "outputs": [
    {
     "data": {
      "text/plain": [
       "array([[170],\n",
       "       [150]])"
      ]
     },
     "execution_count": 85,
     "metadata": {},
     "output_type": "execute_result"
    }
   ],
   "source": [
    "M[:2,1:2]"
   ]
  },
  {
   "cell_type": "code",
   "execution_count": 86,
   "id": "bearing-robert",
   "metadata": {},
   "outputs": [
    {
     "data": {
      "text/plain": [
       "array([[0., 0.],\n",
       "       [0., 0.]])"
      ]
     },
     "execution_count": 86,
     "metadata": {},
     "output_type": "execute_result"
    }
   ],
   "source": [
    "a = np.zeros((2,2))\n",
    "a"
   ]
  },
  {
   "cell_type": "code",
   "execution_count": 87,
   "id": "conventional-administrator",
   "metadata": {},
   "outputs": [
    {
     "data": {
      "text/plain": [
       "array([[1., 1.],\n",
       "       [1., 1.]])"
      ]
     },
     "execution_count": 87,
     "metadata": {},
     "output_type": "execute_result"
    }
   ],
   "source": [
    "np.ones((2,2))"
   ]
  },
  {
   "cell_type": "code",
   "execution_count": 88,
   "id": "ahead-month",
   "metadata": {},
   "outputs": [
    {
     "data": {
      "text/plain": [
       "array([[7, 7, 7],\n",
       "       [7, 7, 7]])"
      ]
     },
     "execution_count": 88,
     "metadata": {},
     "output_type": "execute_result"
    }
   ],
   "source": [
    "np.full((2,3),7)"
   ]
  },
  {
   "cell_type": "code",
   "execution_count": 89,
   "id": "manual-cleaners",
   "metadata": {},
   "outputs": [
    {
     "data": {
      "text/plain": [
       "array([[1., 0.],\n",
       "       [0., 1.]])"
      ]
     },
     "execution_count": 89,
     "metadata": {},
     "output_type": "execute_result"
    }
   ],
   "source": [
    "np.eye(2)"
   ]
  },
  {
   "cell_type": "code",
   "execution_count": 90,
   "id": "senior-medicaid",
   "metadata": {},
   "outputs": [
    {
     "data": {
      "text/plain": [
       "array([[0.84461886, 0.53814752],\n",
       "       [0.55908652, 0.12250998]])"
      ]
     },
     "execution_count": 90,
     "metadata": {},
     "output_type": "execute_result"
    }
   ],
   "source": [
    "np.random.random((2,2))"
   ]
  },
  {
   "cell_type": "markdown",
   "id": "pleasant-michigan",
   "metadata": {},
   "source": [
    "### Dot Product & Cross Products"
   ]
  },
  {
   "cell_type": "markdown",
   "id": "growing-projector",
   "metadata": {},
   "source": [
    "Let $\\vec{A}$ and $\\vec{B}$ are 1-D vectors:\n",
    "##### Dot Products\n",
    "\n",
    "1-D Vectors: $\\vec{A}\\cdot\\vec{B}=\\sum_{i=1}^N A_iB_i$\n",
    "\n",
    "1-D Matrix: ${\\bf A}\\cdot {\\bf B}^T=\\sum_{i=1}^N A_iB_i$\n",
    "\n",
    "\n",
    "##### Cross Product\n",
    "\n",
    "$\\vec{A}\\times\\vec{B}=\\begin{bmatrix} \\hat{x} & \\hat{y} & \\hat{z}\\\\A_{x} & A_{y} & A_{z} \\\\ B_{x} & B_{y} & B_{z} \\end{bmatrix}=(A_yB_z-B_yA_z)\\hat{x}+(A_zB_x-A_xB_z)\\hat{y}+(A_xB_y-A_yB_x)\\hat{z}=\\begin{bmatrix} A_yB_z-B_yA_z\\\\ A_zB_x-A_xB_z\\\\ A_xB_y-A_yB_x \\end{bmatrix}$\n",
    "\n",
    "\n"
   ]
  },
  {
   "cell_type": "code",
   "execution_count": 91,
   "id": "dynamic-calibration",
   "metadata": {},
   "outputs": [
    {
     "data": {
      "text/plain": [
       "56"
      ]
     },
     "execution_count": 91,
     "metadata": {},
     "output_type": "execute_result"
    }
   ],
   "source": [
    "a = [2,3,4]\n",
    "b = [5,6,7]\n",
    "np.dot(a,b)"
   ]
  },
  {
   "cell_type": "code",
   "execution_count": 92,
   "id": "tamil-credits",
   "metadata": {},
   "outputs": [
    {
     "data": {
      "text/plain": [
       "56"
      ]
     },
     "execution_count": 92,
     "metadata": {},
     "output_type": "execute_result"
    }
   ],
   "source": [
    "2*5+3*6+4*7"
   ]
  },
  {
   "cell_type": "code",
   "execution_count": 93,
   "id": "prime-stretch",
   "metadata": {},
   "outputs": [
    {
     "data": {
      "text/plain": [
       "array([-3,  6, -3])"
      ]
     },
     "execution_count": 93,
     "metadata": {},
     "output_type": "execute_result"
    }
   ],
   "source": [
    "np.cross(a,b)"
   ]
  },
  {
   "cell_type": "code",
   "execution_count": 94,
   "id": "norwegian-stream",
   "metadata": {},
   "outputs": [
    {
     "data": {
      "text/plain": [
       "[-3, 6, -3]"
      ]
     },
     "execution_count": 94,
     "metadata": {},
     "output_type": "execute_result"
    }
   ],
   "source": [
    "[3*7-4*6,-(7*2-4*5),2*6-3*5]"
   ]
  },
  {
   "cell_type": "markdown",
   "id": "skilled-investment",
   "metadata": {},
   "source": [
    "### Matrix Addition & Multiplication\n",
    "Let **A** and **B** are $n\\times n$ matrices.\n",
    "- **Addition between matrices**\n",
    "    - As long as the shapes are the same,\n",
    "$${\\bf C}={\\bf A}+{\\bf B}\\,\\,\\text{where}\\,\\,C_{i,j}=A_{i,j}+B_{i,j}$$\n",
    "$${\\bf C}={\\bf A}+{\\bf B}=\\begin{bmatrix} A_{11}+B_{11} & \\cdots & A_{1n}+B_{1n}\\\\ \\vdots & \\ddots & \\vdots\\\\ A_{n1}+B_{n1} & \\cdots & A_{nn}+B_{nn}\\end{bmatrix}$$"
   ]
  },
  {
   "cell_type": "code",
   "execution_count": 95,
   "id": "mobile-training",
   "metadata": {},
   "outputs": [],
   "source": [
    "A=np.array([[1,2],[3,4]])\n",
    "B=np.array([[5,6],[7,8]])"
   ]
  },
  {
   "cell_type": "code",
   "execution_count": 96,
   "id": "million-vacuum",
   "metadata": {},
   "outputs": [
    {
     "data": {
      "text/plain": [
       "array([[ 6,  8],\n",
       "       [10, 12]])"
      ]
     },
     "execution_count": 96,
     "metadata": {},
     "output_type": "execute_result"
    }
   ],
   "source": [
    "A+B"
   ]
  },
  {
   "cell_type": "code",
   "execution_count": 97,
   "id": "revolutionary-garbage",
   "metadata": {},
   "outputs": [
    {
     "data": {
      "text/plain": [
       "array([[ 6,  8],\n",
       "       [10, 12]])"
      ]
     },
     "execution_count": 97,
     "metadata": {},
     "output_type": "execute_result"
    }
   ],
   "source": [
    "np.add(A,B)"
   ]
  },
  {
   "cell_type": "code",
   "execution_count": 98,
   "id": "superb-deputy",
   "metadata": {},
   "outputs": [
    {
     "name": "stdout",
     "output_type": "stream",
     "text": [
      "[[ 6  8]\n",
      " [10 12]]\n"
     ]
    }
   ],
   "source": [
    "C1=[1+5,2+6]\n",
    "C2=[3+7,4+8]\n",
    "C=np.vstack([C1,C2])\n",
    "print(C)"
   ]
  },
  {
   "cell_type": "markdown",
   "id": "formed-marijuana",
   "metadata": {},
   "source": [
    "- **A scalar to Matrix**\n",
    "    - Perform the operations to each element\n",
    "$${\\bf C}=x\\cdot{\\bf B}+y\\,\\,\\text{where}\\,\\,C_{i,j}=xB_{i,j}+y$$"
   ]
  },
  {
   "cell_type": "code",
   "execution_count": 99,
   "id": "ranging-steal",
   "metadata": {},
   "outputs": [],
   "source": [
    "x=2\n",
    "y=3"
   ]
  },
  {
   "cell_type": "code",
   "execution_count": 100,
   "id": "future-clothing",
   "metadata": {},
   "outputs": [
    {
     "data": {
      "text/plain": [
       "array([[13, 15],\n",
       "       [17, 19]])"
      ]
     },
     "execution_count": 100,
     "metadata": {},
     "output_type": "execute_result"
    }
   ],
   "source": [
    "x*B+y"
   ]
  },
  {
   "cell_type": "code",
   "execution_count": 101,
   "id": "dress-mexican",
   "metadata": {},
   "outputs": [
    {
     "data": {
      "text/plain": [
       "array([[13, 15],\n",
       "       [17, 19]])"
      ]
     },
     "execution_count": 101,
     "metadata": {},
     "output_type": "execute_result"
    }
   ],
   "source": [
    "np.array([[x*B[0][0]+y,x*B[0][1]+y],[x*B[1][0]+y,x*B[1][1]+y]])"
   ]
  },
  {
   "cell_type": "markdown",
   "id": "opened-tuition",
   "metadata": {},
   "source": [
    "- **A vector to Matrix**\n",
    "    - Yields another matrix\n",
    "$${\\bf C}={\\bf A}+{\\bf b}\\,\\,\\text{where}\\,\\,C_{i,j}={\\bf A}_{i,j}+{\\bf b}_j$$\n",
    "    - Copying of b to many locations is called **broadcasting**."
   ]
  },
  {
   "cell_type": "code",
   "execution_count": 102,
   "id": "confused-beginning",
   "metadata": {},
   "outputs": [],
   "source": [
    "b=[1,2]"
   ]
  },
  {
   "cell_type": "code",
   "execution_count": 103,
   "id": "returning-strap",
   "metadata": {},
   "outputs": [
    {
     "data": {
      "text/plain": [
       "array([[2, 4],\n",
       "       [4, 6]])"
      ]
     },
     "execution_count": 103,
     "metadata": {},
     "output_type": "execute_result"
    }
   ],
   "source": [
    "A+b"
   ]
  },
  {
   "cell_type": "code",
   "execution_count": 104,
   "id": "careful-stream",
   "metadata": {},
   "outputs": [
    {
     "data": {
      "text/plain": [
       "array([[2, 4],\n",
       "       [4, 6]])"
      ]
     },
     "execution_count": 104,
     "metadata": {},
     "output_type": "execute_result"
    }
   ],
   "source": [
    "np.array([[A[0][0]+b[0],A[0][1]+b[1]],[A[1][0]+b[0],A[1][1]+b[1]]])"
   ]
  },
  {
   "cell_type": "markdown",
   "id": "heated-possible",
   "metadata": {},
   "source": [
    "- **Multiplication (Matrix product) between matrices**\n",
    "    - ${\\bf A}$ must have the same number of columns as ${\\bf B}$ has rows.\n",
    "    - Let ${\\bf A}$ be $m\\times n$ and ${\\bf B}$ be $n\\times p$, then ${\\bf C}\n",
    "    ={\\bf AB}$ is a matrix with shape of $m\\times p$. \n",
    "    $${\\bf A}\\times{\\bf B}=\\begin{bmatrix} \\sum_{i=1}^nA_{1i}B_{1i} & \\cdots & \\sum_{i=1}^nA_{1i}B_{in}\\\\ \\vdots & \\ddots & \\vdots\\\\ \\sum_{i=1}^nA_{ni}B_{1i} & \\cdots & \\sum_{i=1}^nA_{ni}B_{in}\\end{bmatrix}$$\n",
    "    \n",
    "    - ${\\bf C}={\\bf AB}$ where $$C_{i,j}=\\sum_{k}=A_{i,k}B_{k,j}.$$\n",
    "    - The product of individual elements is called **element-wise product**, or **Hadamard product** and is denoted as 𝑨⊙𝑩.\n"
   ]
  },
  {
   "cell_type": "code",
   "execution_count": 105,
   "id": "contrary-zealand",
   "metadata": {},
   "outputs": [
    {
     "data": {
      "text/plain": [
       "array([[ 5, 12],\n",
       "       [21, 32]])"
      ]
     },
     "execution_count": 105,
     "metadata": {},
     "output_type": "execute_result"
    }
   ],
   "source": [
    "A*B"
   ]
  },
  {
   "cell_type": "code",
   "execution_count": 106,
   "id": "dietary-gallery",
   "metadata": {},
   "outputs": [
    {
     "data": {
      "text/plain": [
       "array([[ 5, 12],\n",
       "       [21, 32]])"
      ]
     },
     "execution_count": 106,
     "metadata": {},
     "output_type": "execute_result"
    }
   ],
   "source": [
    "np.multiply(A,B)"
   ]
  },
  {
   "cell_type": "code",
   "execution_count": 107,
   "id": "existing-solomon",
   "metadata": {},
   "outputs": [
    {
     "data": {
      "text/plain": [
       "array([[19, 22],\n",
       "       [43, 50]])"
      ]
     },
     "execution_count": 107,
     "metadata": {},
     "output_type": "execute_result"
    }
   ],
   "source": [
    "np.matmul(A,B)"
   ]
  },
  {
   "cell_type": "code",
   "execution_count": 108,
   "id": "placed-palestinian",
   "metadata": {},
   "outputs": [
    {
     "data": {
      "text/plain": [
       "array([[19, 22],\n",
       "       [43, 50]])"
      ]
     },
     "execution_count": 108,
     "metadata": {},
     "output_type": "execute_result"
    }
   ],
   "source": [
    "C1=[1*5+2*7,1*6+2*8]\n",
    "C2=[3*5+4*7,3*6+4*8]\n",
    "np.vstack([C1,C2])"
   ]
  },
  {
   "cell_type": "markdown",
   "id": "civil-weapon",
   "metadata": {},
   "source": [
    "- **Multiplicatition Properties**\n",
    "    - Distributive property\n",
    "    $${\\bf A}({\\bf B}+{\\bf C})={\\bf AB}+{\\bf AC}$$\n",
    "    - Associative property\n",
    "    $${\\bf A}({\\bf BC})=({\\bf AB}){\\bf C}$$\n",
    "    - But not commutative\n",
    "        - ${\\bf AB}\\ne{\\bf BA}$\n",
    "        - but vectors are: ${\\bf x}^T{\\bf y}={\\bf y}^T{\\bf x}$"
   ]
  },
  {
   "cell_type": "code",
   "execution_count": 109,
   "id": "piano-evening",
   "metadata": {},
   "outputs": [
    {
     "data": {
      "text/plain": [
       "array([[ 45,  54],\n",
       "       [101, 122]])"
      ]
     },
     "execution_count": 109,
     "metadata": {},
     "output_type": "execute_result"
    }
   ],
   "source": [
    "np.matmul(A,B+C)"
   ]
  },
  {
   "cell_type": "code",
   "execution_count": 110,
   "id": "legitimate-child",
   "metadata": {},
   "outputs": [
    {
     "name": "stdout",
     "output_type": "stream",
     "text": [
      "[[11 14]\n",
      " [17 20]]\n",
      "[[ 45  54]\n",
      " [101 122]]\n"
     ]
    }
   ],
   "source": [
    "D = B+C\n",
    "print(D)\n",
    "print(np.matmul(A,D))"
   ]
  },
  {
   "cell_type": "code",
   "execution_count": 111,
   "id": "secure-farmer",
   "metadata": {},
   "outputs": [
    {
     "data": {
      "text/plain": [
       "array([[334, 416],\n",
       "       [758, 944]])"
      ]
     },
     "execution_count": 111,
     "metadata": {},
     "output_type": "execute_result"
    }
   ],
   "source": [
    "np.matmul(A,np.matmul(B,C))"
   ]
  },
  {
   "cell_type": "code",
   "execution_count": 112,
   "id": "fixed-coupon",
   "metadata": {},
   "outputs": [
    {
     "data": {
      "text/plain": [
       "array([[334, 416],\n",
       "       [758, 944]])"
      ]
     },
     "execution_count": 112,
     "metadata": {},
     "output_type": "execute_result"
    }
   ],
   "source": [
    "np.matmul(np.matmul(A,B),C)"
   ]
  },
  {
   "cell_type": "code",
   "execution_count": 113,
   "id": "transparent-australian",
   "metadata": {},
   "outputs": [
    {
     "name": "stdout",
     "output_type": "stream",
     "text": [
      "v= [ 70 170  40]\n",
      "w= [ 60 150   5]\n"
     ]
    }
   ],
   "source": [
    "print('v=',v)\n",
    "print('w=',w)"
   ]
  },
  {
   "cell_type": "code",
   "execution_count": 114,
   "id": "saved-sunrise",
   "metadata": {},
   "outputs": [
    {
     "name": "stdout",
     "output_type": "stream",
     "text": [
      "29900\n",
      "29900\n"
     ]
    }
   ],
   "source": [
    "print(np.dot(v.T,w))\n",
    "print(np.dot(w.T,v))"
   ]
  },
  {
   "cell_type": "markdown",
   "id": "boring-celtic",
   "metadata": {},
   "source": [
    "### Identity and Inverse Matrices\n",
    "Matrix inversion: Enables to analytically solve ${\\bf Ax}={\\bf b}$ for many values of ${\\bf A}$.\n",
    "- An identity matrix: a matrix that does not change any vector when we multiply that vector by that matrix. It is denoted as ${\\bf I}_n$ that is $\\in\\mathbb{R}^{n\\times n}$ and for ${\\bf x}\\in\\mathbb{R}^n$, ${\\bf I}_n\\bf{x}=\\bf{x}$.\n",
    "    - All the entries along the main diagonal are 1 and other entries are zero. \n",
    "- The matrix inverse of A is denoted as ${\\bf A}^{−1}$ and it is defined as the matrix such that\n",
    "$${\\bf A}^{-1}{\\bf A}={\\bf I}_n$$\n",
    "$${\\bf A}^{-1}=\\frac{1}{det(A)}{\\bf A}$$\n",
    "where $det(A)$ is the determinant of ${\\bf A}$:\n",
    "    - If ${\\bf A} = \\begin{bmatrix} A_{11} & A_{12} \\\\ A_{21} & A_{22} \\end{bmatrix}$, \n",
    "$$det({\\bf A})=A_{11}A_{22}-A_{12}A_{21}$$\n",
    "$${\\bf A}^{-1}=\\frac{1}{det({\\bf A})}\\begin{bmatrix} A_{22} & -A_{12} \\\\ -A_{21} & A_{11} \\end{bmatrix}$$\n",
    "\n",
    "If we have ${\\bf Ax}=\\bf{b}$, ${\\bf x}={\\bf A}^{-1}{\\bf b}$. \n",
    "- ${\\bf A}^{-1}$ is primarily useful as a theoretical tool but should not be used in practice for most software applications. \n",
    "- ${\\bf A}^{-1}$ can be represented with only limited precision on a digital computer and algorithms that make use of the value of ${\\bf b}$ can be usually obtain more accurate estimates of ${\\bf x}$. \n"
   ]
  },
  {
   "cell_type": "code",
   "execution_count": 115,
   "id": "alien-fence",
   "metadata": {},
   "outputs": [
    {
     "name": "stdout",
     "output_type": "stream",
     "text": [
      "[[1 2]\n",
      " [3 4]]\n"
     ]
    }
   ],
   "source": [
    "print(A)"
   ]
  },
  {
   "cell_type": "code",
   "execution_count": 116,
   "id": "legitimate-touch",
   "metadata": {},
   "outputs": [
    {
     "name": "stdout",
     "output_type": "stream",
     "text": [
      "[[-2.   1. ]\n",
      " [ 1.5 -0.5]]\n"
     ]
    }
   ],
   "source": [
    "print(np.linalg.inv(A))"
   ]
  },
  {
   "cell_type": "code",
   "execution_count": 117,
   "id": "black-blank",
   "metadata": {},
   "outputs": [
    {
     "data": {
      "text/plain": [
       "array([[1.0000000e+00, 0.0000000e+00],\n",
       "       [8.8817842e-16, 1.0000000e+00]])"
      ]
     },
     "execution_count": 117,
     "metadata": {},
     "output_type": "execute_result"
    }
   ],
   "source": [
    "np.matmul(A,np.linalg.inv(A))"
   ]
  },
  {
   "cell_type": "code",
   "execution_count": 118,
   "id": "colored-impossible",
   "metadata": {},
   "outputs": [
    {
     "data": {
      "text/plain": [
       "-2.0000000000000004"
      ]
     },
     "execution_count": 118,
     "metadata": {},
     "output_type": "execute_result"
    }
   ],
   "source": [
    "np.linalg.det(A)"
   ]
  },
  {
   "cell_type": "code",
   "execution_count": 119,
   "id": "relative-idaho",
   "metadata": {},
   "outputs": [
    {
     "data": {
      "text/plain": [
       "-2"
      ]
     },
     "execution_count": 119,
     "metadata": {},
     "output_type": "execute_result"
    }
   ],
   "source": [
    "det=1*4-3*2\n",
    "det"
   ]
  },
  {
   "cell_type": "code",
   "execution_count": 120,
   "id": "earlier-jacob",
   "metadata": {},
   "outputs": [
    {
     "data": {
      "text/plain": [
       "array([[-2. ,  1. ],\n",
       "       [ 1.5, -0.5]])"
      ]
     },
     "execution_count": 120,
     "metadata": {},
     "output_type": "execute_result"
    }
   ],
   "source": [
    "np.linalg.inv(A)"
   ]
  },
  {
   "cell_type": "code",
   "execution_count": 121,
   "id": "violent-craps",
   "metadata": {},
   "outputs": [
    {
     "data": {
      "text/plain": [
       "array([[-2. ,  1. ],\n",
       "       [ 1.5, -0.5]])"
      ]
     },
     "execution_count": 121,
     "metadata": {},
     "output_type": "execute_result"
    }
   ],
   "source": [
    "1/det*np.array([[4,-2],[-3,1]])"
   ]
  },
  {
   "cell_type": "markdown",
   "id": "accredited-morrison",
   "metadata": {},
   "source": [
    "### Linear Dependence and Span"
   ]
  },
  {
   "cell_type": "markdown",
   "id": "ultimate-blackberry",
   "metadata": {},
   "source": [
    "Recall, ${\\bf Ax}={\\bf b}\\to{\\bf x}={\\bf A^{-1}b}$:\n",
    "- One solution for every value of ${\\bf b}$ but also can have no solutions or infinitely many solutions\n",
    "- It is not possible to have more than one but less than infinitely many solutions for particular ${\\bf b}$. \n",
    "- If both ${\\bf x}$ and ${\\bf y}$ are solutions, then \n",
    "$${\\bf z}=\\alpha{\\bf x}+(1-\\alpha){\\bf y}$$"
   ]
  },
  {
   "cell_type": "markdown",
   "id": "brilliant-ceremony",
   "metadata": {},
   "source": [
    "- The columns of ${\\bf A}$ specify directions from the origin\n",
    "    - Determines how many ways there are of reaching ${\\bf b}$. \n",
    "    - **Linear combination**\n",
    "    \n",
    "$${\\bf Ax}=\\sum_i x_iA:,i$$\n",
    "\n",
    "- **Span** – set of all points obtained by linear combination of the original vectors. \n",
    "    - Determining whether ${\\bf Ax}={\\bf b}$ has a solution is testing whether ${\\bf b}$ is in the *span of the columns of* ${\\bf A}$.  \n",
    "        - The column space of ${\\bf A}$ be all of $\\mathbb{R}^m$ for the system to have solution for all values of ${\\bf b}\\in\\mathbb{R}^m$!\n",
    "        - ${\\bf A}$ must have at least $m$ columns!\n"
   ]
  },
  {
   "cell_type": "markdown",
   "id": "careful-diamond",
   "metadata": {},
   "source": [
    "Consider ${\\bf A}$ have columns $n$ and $b$ has $m$ elements where $n\\ge m$,\n",
    "- If ${\\bf A}$ is a $3\\times2$ matrix and ${\\bf x}$ is 2×1, the target b is a 3×1. \n",
    "- The target ${\\bf b}$ is in 3-D but ${\\bf x}$ is only 2-D. \n",
    "- In this case, the solution is only when ${\\bf b}$ lies on that plane. \n",
    "- What happens if columns are identical?\n",
    "    - Wil fail to encompass all of $\\mathbb{R}^m$.\n",
    "    - Linear independent – if no vector in the set is a linear combination of the other vectors. \n",
    "    - For the column space of the matrix to encompass all of $\\mathbb{R}^m$, the matrix must contain at least one set of $m$ linearly intendent columns. \n",
    "    - This requirement is to have exactly $m$ linear independent columns, not at least $m$.  \n",
    "    - No set of $m$-D vectors can have more than m mutually independent columns, but a matrix with more than m columns may have more than one such set. \n"
   ]
  },
  {
   "cell_type": "markdown",
   "id": "mental-sunglasses",
   "metadata": {},
   "source": [
    "For ${\\bf A}$ to have an inverse:\n",
    "- Linear independency\n",
    "- Must have at most one solution for each value of ${\\bf b}$ $\\to$  at most $m$ columns\n",
    "    - Otherwise, there is more than one way of parameterizing each solution. \n",
    "- In other words, ${\\bf A}$ must be square matrix by being $m\\times m$ and all columns be linearly independent. \n",
    "- A **square** matrix with **linearly dependent** columns is known as **singular**. \n",
    "    - ${\\bf A}$ is non-singular if $det(A)\\ne0$.\n",
    "    - One unique solution for each ${\\bf b}$.\n",
    "    - the rows of ${\\bf A}$ are linearly independent (and so are the columns)$.\n",
    "- For non-square or a square but singular A?\n",
    "    - **We can solve using other than the method of matrix inversion**. \n"
   ]
  },
  {
   "cell_type": "markdown",
   "id": "stylish-liabilities",
   "metadata": {},
   "source": [
    "### Norm\n",
    "In Machine Learning, we meausre the size of vectors by mapping vectors to non-negative values:\n",
    "$$|{\\bf x}|_p=\\Big(\\sum_i|x_i|^p\\Big)^{\\frac{1}{p}}$$\n",
    "for $p\\in\\mathbb(R)$, $p\\ge1$.\n",
    "\n",
    "Also, the norm of vector ${\\bf x}$ measures the **distance** from the origin to the point $x$."
   ]
  },
  {
   "cell_type": "markdown",
   "id": "opposite-parks",
   "metadata": {},
   "source": [
    "### Orthogonal matrices\n",
    "- ${\\bf A}$ is orthogonal if ${\\bf A}^{-1}=A^T$.\n",
    "- This follows ${\\bf AA^T}={\\bf A^TA}={\\bf I}=\\delta_{i,j}$\n",
    "where $\\delta_{i,j}$ is a Dirac-Delta function. \n",
    "- The orthognal matrix ${\\bf Q}$ can be obtained by using QR factorization: https://numpy.org/doc/stable/reference/generated/numpy.linalg.qr.html"
   ]
  },
  {
   "cell_type": "code",
   "execution_count": 122,
   "id": "recovered-chocolate",
   "metadata": {},
   "outputs": [
    {
     "data": {
      "text/plain": [
       "array([[1.00000000e+00, 1.87935820e-16, 2.70323672e-16],\n",
       "       [1.87935820e-16, 1.00000000e+00, 1.12933718e-16],\n",
       "       [2.70323672e-16, 1.12933718e-16, 1.00000000e+00]])"
      ]
     },
     "execution_count": 122,
     "metadata": {},
     "output_type": "execute_result"
    }
   ],
   "source": [
    "a = np.random.rand(3, 3)\n",
    "q, r = np.linalg.qr(a)\n",
    "np.dot(q,q.T)"
   ]
  },
  {
   "cell_type": "markdown",
   "id": "diverse-liquid",
   "metadata": {},
   "source": [
    "### Trace\n",
    "- The **trace** of a square matrix denoted by $tr(A)$ is sum of the diagonal elements\n",
    "$$ tr(A)=\\sum_{i}A_{i,i}$$"
   ]
  },
  {
   "cell_type": "code",
   "execution_count": 123,
   "id": "stretch-crack",
   "metadata": {},
   "outputs": [
    {
     "name": "stdout",
     "output_type": "stream",
     "text": [
      "[[1 2]\n",
      " [3 4]]\n"
     ]
    }
   ],
   "source": [
    "print(A)"
   ]
  },
  {
   "cell_type": "code",
   "execution_count": 124,
   "id": "hazardous-madness",
   "metadata": {},
   "outputs": [
    {
     "data": {
      "text/plain": [
       "5"
      ]
     },
     "execution_count": 124,
     "metadata": {},
     "output_type": "execute_result"
    }
   ],
   "source": [
    "A.trace()"
   ]
  },
  {
   "cell_type": "markdown",
   "id": "contained-burton",
   "metadata": {},
   "source": [
    "### Determinant"
   ]
  },
  {
   "cell_type": "markdown",
   "id": "completed-twelve",
   "metadata": {},
   "source": [
    "- $|{\\bf A}|=|{\\bf A}^T|$\n",
    "- $|{\\bf AB}|=|{\\bf A}||{\\bf B}|$\n",
    "- $|{\\bf A}^{-1}|=\\frac{1}{|{\\bf A}|}$ if ${\\bf A}$ is singular."
   ]
  },
  {
   "cell_type": "code",
   "execution_count": 125,
   "id": "equipped-address",
   "metadata": {},
   "outputs": [
    {
     "data": {
      "text/plain": [
       "-2.0000000000000004"
      ]
     },
     "execution_count": 125,
     "metadata": {},
     "output_type": "execute_result"
    }
   ],
   "source": [
    "np.linalg.det(A)"
   ]
  },
  {
   "cell_type": "code",
   "execution_count": 126,
   "id": "quantitative-surrey",
   "metadata": {},
   "outputs": [
    {
     "data": {
      "text/plain": [
       "-2.0"
      ]
     },
     "execution_count": 126,
     "metadata": {},
     "output_type": "execute_result"
    }
   ],
   "source": [
    "np.linalg.det(A.T)"
   ]
  },
  {
   "cell_type": "code",
   "execution_count": 127,
   "id": "native-indonesian",
   "metadata": {},
   "outputs": [
    {
     "data": {
      "text/plain": [
       "4.000000000000008"
      ]
     },
     "execution_count": 127,
     "metadata": {},
     "output_type": "execute_result"
    }
   ],
   "source": [
    "np.linalg.det(np.matmul(A,B))"
   ]
  },
  {
   "cell_type": "code",
   "execution_count": 128,
   "id": "verbal-baseball",
   "metadata": {},
   "outputs": [
    {
     "data": {
      "text/plain": [
       "4.000000000000011"
      ]
     },
     "execution_count": 128,
     "metadata": {},
     "output_type": "execute_result"
    }
   ],
   "source": [
    "np.linalg.det(A)*np.linalg.det(B)"
   ]
  },
  {
   "cell_type": "code",
   "execution_count": 129,
   "id": "moral-juvenile",
   "metadata": {},
   "outputs": [
    {
     "data": {
      "text/plain": [
       "-0.4999999999999999"
      ]
     },
     "execution_count": 129,
     "metadata": {},
     "output_type": "execute_result"
    }
   ],
   "source": [
    "1/np.linalg.det(A)"
   ]
  },
  {
   "cell_type": "markdown",
   "id": "promising-threshold",
   "metadata": {},
   "source": [
    "### Eigenvalues and Eigenvectors\n",
    "- For an $n\\times n$ square matrix ${\\bf A}$, ${\\bf\\mu}$ is an eigenvector with eigenvalue $\\lambda$ if \n",
    "$${\\bf A\\mu}=\\lambda{\\bf\\mu}$$\n",
    "- that is $({\\bf A}-{\\bf I}\\lambda)\\mu=0$.\n",
    "- if $({\\bf A}-{\\bf I}\\lambda)$ is invertible, then the only solution is ${\\bf\\mu}=0$ (trivial). \n",
    "- Otherwise, \n",
    "$$det({\\bf A}-\\lambda{\\bf I})=0$$\n",
    "- Above equation is called the **characteristic polynomial**.\n",
    "- Solutions are not unique if ${\\bf\\mu}$ is an eigenvector and $\\alpha{\\bf\\mu}$ is also an eigenvector where $\\alpha$ is a constant."
   ]
  },
  {
   "cell_type": "markdown",
   "id": "pressing-brush",
   "metadata": {},
   "source": [
    "- consider a $2\\times2$ matrix ${\\bf A}$:\n",
    "\n",
    "$$det(A-\\lambda I)=\\begin{bmatrix} A_{11}-\\lambda & A_{12} \\\\ A_{21} & A_{22}-\\lambda \\end{bmatrix}$$\n",
    "$$\\to a_{11}a_{22}-a_{12}a_{21}-\\lambda(a_{11}+a_{22})+\\lambda^2=0$$\n",
    "- substitute $\\lambda$ solution to $({\\bf A}-{\\bf I}\\lambda)\\mu=0$ and solve for ${\\bf\\mu}$"
   ]
  },
  {
   "cell_type": "code",
   "execution_count": 130,
   "id": "distant-scholar",
   "metadata": {},
   "outputs": [],
   "source": [
    "eigval, eigvec = np.linalg.eig(A)"
   ]
  },
  {
   "cell_type": "code",
   "execution_count": 131,
   "id": "lyric-princess",
   "metadata": {},
   "outputs": [
    {
     "name": "stdout",
     "output_type": "stream",
     "text": [
      "[-0.37228132  5.37228132]\n",
      "[[-0.82456484 -0.41597356]\n",
      " [ 0.56576746 -0.90937671]]\n"
     ]
    }
   ],
   "source": [
    "print(eigval)\n",
    "print(eigvec)"
   ]
  },
  {
   "cell_type": "markdown",
   "id": "bound-gentleman",
   "metadata": {},
   "source": [
    "<p><a name=\"PT\"></a></p>\n",
    "\n",
    "### <center>Probability Theory</center>\n",
    "\n",
    "#### The Axioms of Proability\n",
    "- $P(A)$ is the ratio of number of event to the number of all possible events\n",
    "- $0\\le P(A)\\le 1$\n",
    "- for binaries, $P(True)$=1 and $P(False)=0$\n",
    "- $P(A\\,\\text{or}\\,B)=P(A)+P(B)-P(A\\,\\text{and}\\,B)$\n",
    "\n",
    "### Discrete Random Variables\n",
    "- Sample space $\\Omega$: Possible **states** $x$ of the random variable $X$ (Outcomes of the experiment, ouput of the system, or measurement).\n",
    "- Either have a finite or countable number of states.\n",
    "- Events: possible combination of states (subsets of $\\Omega$). \n",
    "\n",
    "#### Probability Mass Function (PMF)\n",
    "- A function which tells us how likely each possible outcome is \n",
    "$$P(X=x)=P_x(x)=P(x)$$\n",
    "$$\\sum_{x\\in\\Omega}P(x)=1$$\n",
    "$$P(A)=P(x\\in A)=\\sum_{x\\in A}P(X=x)$$\n",
    "\n",
    "#### Expectation and Variance\n",
    "- Expectation (or mean): $E(x)=\\sum_{x}P(X=x)x$\n",
    "- Expectation of a function: $E(f(x))=\\sum_{x}P(X=x)f(x)$\n",
    "- Moments = expectation of power of $X$: $M_k=E(X^k)$ where $k$ is a constant. \n",
    "- Variance: average (squared) function from the mean - $Var(X)=E\\big((X-E(X))^2\\big)=E(X^2)-E(X)^2=M_2-M_1^2$\n",
    "- Standard Devition: sqaure root of variance - $\\sigma=\\sqrt{Var(X)}=\\sqrt{M_2-M_1^2}$\n",
    "\n",
    "#### Bivariate Distributions\n",
    "- Joint Distribtion $P(X=x,Y=y)$: a list of all probabilities of all possible pairs of observations. \n",
    "- Marginal Distribution $P(X=x)=\\sum_y P(X=x,Y=y)$\n",
    "- Conditional Distribution $P(X=x|Y=y)=P(X=x,Y=y)$\n",
    "    - $X|Y$ has a distribution $P(X|Y)$ where $P(X|Y)$ specifies a *lookup-table* of all possible $P(X=x|Y=y)$. \n",
    "\n",
    "#### Expectation and Covariance of Bivariate Distributions\n",
    "- Conditional distributions are just distributions which have a **conditional** mean or variance. \n",
    "- Covariance is the expevted value of the product of fluctuations:\n",
    "$$Cov(X,Y)=E\\big((X-E(X))(Y-E(Y))\\big)=E(XY)-E(X)E(Y)$$\n",
    "- one common way to construct bivariate random variables is to have a random variable whose parameter is another randome variable. \n",
    "\n",
    "#### Expectation and Covariance of Bivariate Distributions\n",
    "- Two events are independent if knowing that the first took places tells us nothing about the probability of the second: $P(A|B)=P(A)$\n",
    "- $P(A)P(B) = P(A\\cap B)$\n",
    "- Two random variables are independent if the joint PMF is the product of the marginals:\n",
    "$$P(X=x,Y=y)=P(X=x)P(Y=y)$$\n",
    "- If $X$ and $Y$ are independent, we write $X\\perp Y$. Knowing the value of $X$ does not tell us anything about $Y$.\n",
    "- If $X$ and $Y$ are independent, $Cov(X,Y)=0$. \n",
    "- Mututal information is a measure of how **non-independent** two random variables are. "
   ]
  },
  {
   "cell_type": "markdown",
   "id": "generous-toner",
   "metadata": {},
   "source": [
    "##### Example: two boxes of fruits \n",
    "Given: \n",
    "- two boxes (B) - red (r) and blue (b)\n",
    "- Fruits (F):\n",
    "    - the red box has 2 apples (a) and 6 oranges (o)\n",
    "    - the blue box has 3 apples and 1 orange\n",
    "- Picking the red box is 40% of the time and the blue box is 60% of the time, then pick one item of fruit."
   ]
  },
  {
   "cell_type": "code",
   "execution_count": 132,
   "id": "favorite-rachel",
   "metadata": {},
   "outputs": [],
   "source": [
    "#P(B=r) and P(B=b)\n",
    "Pr=0.4\n",
    "Pb=0.6"
   ]
  },
  {
   "cell_type": "code",
   "execution_count": 133,
   "id": "respiratory-tooth",
   "metadata": {},
   "outputs": [
    {
     "name": "stdout",
     "output_type": "stream",
     "text": [
      "P(a|r)= 0.25\n",
      "P(o|r)= 0.75\n",
      "P(a|b)= 0.75\n",
      "P(o|b)= 0.25\n"
     ]
    }
   ],
   "source": [
    "# Conditional Probabilities\n",
    "#P(a|r),P(o|r),P(a|b),P(o|b)\n",
    "Par=2/8\n",
    "Por=6/8\n",
    "Pab=3/4\n",
    "Pob=1/4\n",
    "print('P(a|r)=',Par)\n",
    "print('P(o|r)=',Por)\n",
    "print('P(a|b)=',Pab)\n",
    "print('P(o|b)=',Pob)"
   ]
  },
  {
   "cell_type": "code",
   "execution_count": 134,
   "id": "corresponding-deficit",
   "metadata": {},
   "outputs": [
    {
     "name": "stdout",
     "output_type": "stream",
     "text": [
      "1.0\n",
      "1.0\n"
     ]
    }
   ],
   "source": [
    "print(Par+Por)\n",
    "print(Pab+Pob)"
   ]
  },
  {
   "cell_type": "markdown",
   "id": "extreme-wrapping",
   "metadata": {},
   "source": [
    "- Probability of picking apple\n",
    "$$P(F=a)=P(F=a|B=r)P(B=r)+P(F=a|B=b)P(B=b)$$"
   ]
  },
  {
   "cell_type": "code",
   "execution_count": 135,
   "id": "specific-defense",
   "metadata": {},
   "outputs": [
    {
     "name": "stdout",
     "output_type": "stream",
     "text": [
      "0.5499999999999999\n"
     ]
    }
   ],
   "source": [
    "print(Par*Pr+Pab*Pb)"
   ]
  },
  {
   "cell_type": "markdown",
   "id": "pleasant-accent",
   "metadata": {},
   "source": [
    "#### Prior vs. Posterior\n",
    "- **Prior** Probability - If we had been asked which box had been chosen before being told the identity of the selected item of fruit, then the most complete information we have available is provided by the probability $P(B)$.\n",
    "- **Posterior** Probability - Once we are told that the fruit is an orange, we can then use Bayes' theorem to compute the probability $P(B|F)$, which we shall call the posterior probability because it is the probability obtained after we have observed $F$."
   ]
  },
  {
   "cell_type": "markdown",
   "id": "abstract-guard",
   "metadata": {},
   "source": [
    "#### Conditional Probability \\& Bayes's Theorem\n",
    "- **Conditional** probability: recalculated probability of event A after someone tells you that event B happend\n",
    "$$P(A|B)=\\frac{P(A\\cap B)}{P(B)}\\to P(A\\cap B)=P(A|B)P(B)$$\n",
    "- **Bayes Rule**\n",
    "$$P(B|A)=\\frac{P(A|B)P(B)}{P(A)}$$\n",
    "    - Bayesian view: probabilities provide a quantification of uncertainty. Before observing the data, the assumption about $w$ are captured in the form of a prior probability distribution $P({\\bf w})$. The effect of the observed data $D=\\{(x_1,y_1),\\dots,(x_N,y_N)\\}$ is expresed by $P(D|{\\bf w})$.\n",
    "     - Bayes' Theorem:\n",
    "     $$P({\\bf w}|D)=\\frac{P(D|{\\bf w})}{P(D})$$\n",
    "     - **posterior**$\\propto$**likelihood**$\\times$**prior**"
   ]
  },
  {
   "cell_type": "markdown",
   "id": "insured-avatar",
   "metadata": {},
   "source": [
    "##### Example continue\n",
    "- Assume we have now picked an orange. What is the probability of picking an orange from the red box?\n",
    "$$P(B=r|F=o)=\\frac{P(F=0|B=r)P(B=r)}{P(F=o)}$$"
   ]
  },
  {
   "cell_type": "code",
   "execution_count": 136,
   "id": "intensive-trigger",
   "metadata": {},
   "outputs": [
    {
     "name": "stdout",
     "output_type": "stream",
     "text": [
      "P(r|o)= 0.6666666666666666\n"
     ]
    }
   ],
   "source": [
    "#Probability of orange\n",
    "Pa=Par*Pr+Pab*Pb\n",
    "Po=1-Pa\n",
    "Pro=Por*Pr/Po\n",
    "print('P(r|o)=',Pro)"
   ]
  },
  {
   "cell_type": "markdown",
   "id": "arctic-gravity",
   "metadata": {},
   "source": [
    "##### **Example**: A family with two children\n",
    "\n",
    "If we assume that:\n",
    "- each child is equally likely to be a boy or a girl\n",
    "- the gneer of the second child is independent of the gender of the first child\n",
    "\n",
    "What is the probability of the event \"both children are girls\"?\n",
    "The event \"no girls\" has the probability of $1/4$, the event one girl and one boy has the probability of $1/2$ and the event \"two girls\" has probability $1/4$. \n",
    "\n",
    "Let \"both children are girls\" $(GG)$ the conditional on the even \"older child is a girl\" $(g)$,\n",
    "\n",
    "$$P(GG|g)=P(g|GG)\\times\\frac{P(GG)}{P(g)}=1\\times\\frac{1/4}{1/2}=1/2$$\n",
    "\n",
    "\n",
    "What is the probability of the event \"both children are girls\" conditional on the event \"at least one of the children is a girl\"$?\n",
    "\n",
    "$$P(GG|G)=P(G|GG)\\times\\frac{P(GG)}{P(G)}=1\\times\\frac{1/4}{3/4}=1/3$$\n",
    "where $P(G)$ is the probabilty of both girls $+$ the probability of either girl: $P(G)=1/4+1/2=3/4$. "
   ]
  },
  {
   "cell_type": "code",
   "execution_count": 137,
   "id": "ordered-newsletter",
   "metadata": {},
   "outputs": [
    {
     "name": "stdout",
     "output_type": "stream",
     "text": [
      "P(both|older): 0.5007089325501317\n",
      "P(both|either): 0.3311897106109325\n"
     ]
    }
   ],
   "source": [
    "def random_kid():\n",
    "    return random.choice([\"boy\",\"girl\"])\n",
    "\n",
    "both_girls=0\n",
    "older_girl=0\n",
    "either_girl=0\n",
    "\n",
    "import random\n",
    "random.seed(0)\n",
    "for _ in range(10000):\n",
    "    younger = random_kid()\n",
    "    older = random_kid()\n",
    "    if older == \"girl\":\n",
    "        older_girl += 1\n",
    "    if older==\"girl\" and younger==\"girl\":\n",
    "        both_girls += 1\n",
    "    if older == \"girl\" or younger==\"girl\":\n",
    "        either_girl += 1\n",
    "        \n",
    "print(\"P(both|older):\",both_girls/older_girl)\n",
    "print(\"P(both|either):\",both_girls/either_girl)"
   ]
  },
  {
   "cell_type": "markdown",
   "id": "perceived-wrong",
   "metadata": {},
   "source": [
    "### Continuous Random Variables\n",
    "- A random variable $X$ is continuous if its sample space $X$ is uncountable.\n",
    "- In this case, $P(X=x)=0$ for each x.\n",
    "- If $P_x(x)$ is a probability density function (PDF) for $X$, then\n",
    "$$P(a<X<b)=\\int_{a}^{b}p(x)dx$$\n",
    "$$P(a<X<a+dx)\\approx p(a)\\cdot dx$$\n",
    "- The cumulative distribution function $F_x(x)=P(X<x)$. We have that $P(x)=F'(x)$, and $F(x)=\\int_{-\\infty}^x p(s)ds$.\n",
    "- More generally, if $A$ is an event, then\n",
    "$$P(A)=P(X\\in A)=\\int_{x\\in A}p(x)dx$$\n",
    "$$P(\\Omega)=P(X\\in\\Omega)=\\int_{x\\in\\Omega}p(x)dx=1$$\n",
    "\n",
    "#### Mean, Variance, and Conditionals\n",
    "- Mean: $E(x)=\\int_x x\\cdot p(x)dx$\n",
    "- Variance: $Var(X)=E(X^2)-E(X)^2$\n",
    "- If X has pdf $p(x)$, then $X|(X\\in A)$ has pdf \n",
    "$$P_{x|A}(x)=\\frac{p(x)}{P(A)}=\\frac{p(x)}{\\int_{x\\in A}p(x)dx}$$\n",
    "- Only makes sense if $P(A)>0$!\n",
    "\n",
    "#### Bivariate Continuous Distributions\n",
    "- $p_{x,y}(x,y)$ the joint probability density function of $X$ and $Y$.\n",
    "- $\\int_x\\int_y p(x,y)dxdy=1$.\n",
    "- Marginal distribution $p_x(x)=\\int_{-\\infty}^{\\infty}p(x,y)dy$\n",
    "- Conditional distribution $p(x|y)=\\frac{p(x,y)}{p(y)}$\n",
    "- $X$ and $Y$ are independent if $p_{(x,y)}(x,y)=p_x(x)p_y(y)$."
   ]
  },
  {
   "cell_type": "code",
   "execution_count": null,
   "id": "medical-accounting",
   "metadata": {},
   "outputs": [],
   "source": []
  },
  {
   "cell_type": "markdown",
   "id": "electronic-concentration",
   "metadata": {},
   "source": [
    "### Normal Distribution\n",
    "The normal distribution is the king of distrbutions (you will see why throughout the course) and iti is the classic bell-curve-shaped distribution determined by two parameters - mean ($\\mu$) and its standard deviation ($\\sigma$):\n",
    "$$f(x|\\mu,\\sigma^2)=\\frac{1}{\\sqrt{2\\pi\\sigma^2}}\\exp\\Big(-\\frac{(x-\\mu)^2}{2\\sigma^2}\\Big).$$"
   ]
  },
  {
   "cell_type": "code",
   "execution_count": 138,
   "id": "described-friday",
   "metadata": {},
   "outputs": [],
   "source": [
    "import math\n",
    "def normal_pdf(x,mu=0,sigma=1):\n",
    "    sqrt_two_pi=math.sqrt(2*math.pi)\n",
    "    return(math.exp(-(x-mu)**2/2/sigma**2)/(sqrt_two_pi*sigma))"
   ]
  },
  {
   "cell_type": "code",
   "execution_count": 139,
   "id": "derived-gnome",
   "metadata": {},
   "outputs": [
    {
     "data": {
      "image/png": "[encoded data removed]",
      "text/plain": [
       "<Figure size 432x288 with 1 Axes>"
      ]
     },
     "metadata": {
      "needs_background": "light"
     },
     "output_type": "display_data"
    }
   ],
   "source": [
    "xs=[x/10.0 for x in range(-50,50)]\n",
    "plt.plot(xs,[normal_pdf(x,sigma=1) for x in xs],'-',label='mu=0,sigma=1')\n",
    "plt.plot(xs,[normal_pdf(x,sigma=2) for x in xs],'--',label='mu=0,sigma=2')\n",
    "plt.plot(xs,[normal_pdf(x,sigma=0.5) for x in xs],':',label='mu=0,sigma=0.5')\n",
    "plt.legend()\n",
    "plt.title(\"Normal PDFs\")\n",
    "plt.show()"
   ]
  },
  {
   "cell_type": "markdown",
   "id": "driven-divide",
   "metadata": {},
   "source": [
    "The cumulative distribution function for the normal distriution can be written using `math.erf`:"
   ]
  },
  {
   "cell_type": "code",
   "execution_count": 140,
   "id": "boring-magnitude",
   "metadata": {},
   "outputs": [
    {
     "data": {
      "image/png": "[encoded data removed]",
      "text/plain": [
       "<Figure size 432x288 with 1 Axes>"
      ]
     },
     "metadata": {
      "needs_background": "light"
     },
     "output_type": "display_data"
    }
   ],
   "source": [
    "def normal_cdf(x,mu=0,sigma=1):\n",
    "    return(1+math.erf((x-mu)/math.sqrt(2)/sigma))/2\n",
    "\n",
    "xs=[x/10.0 for x in range(-50,50)]\n",
    "plt.plot(xs,[normal_cdf(x,sigma=1) for x in xs],'-',label='mu=0,sigma=1')\n",
    "plt.plot(xs,[normal_cdf(x,sigma=2) for x in xs],'--',label='mu=0,sigma=2')\n",
    "plt.plot(xs,[normal_cdf(x,sigma=0.5) for x in xs],':',label='mu=0,sigma=0.5')\n",
    "plt.legend()\n",
    "plt.title(\"Normal CDFs\")\n",
    "plt.show()"
   ]
  },
  {
   "cell_type": "markdown",
   "id": "exciting-substitute",
   "metadata": {},
   "source": [
    "#### Central Limit Theorem\n",
    "\n",
    "The central limit theorem says that a random variable defined as the average of a large number of independent and identically distributed random variables is itself approximately normally distributed. If random variables of $x_1, x_2, \\cdots, x_n$ with $\\mu$ and $\\sigma$ for large $n$, then \n",
    "$$f(x|\\mu,\\sigma)\\approx\\frac{(x_1+\\cdots+x_n)-\\mu n}{\\sigma\\sqrt{n}}$$"
   ]
  },
  {
   "cell_type": "markdown",
   "id": "seeing-faculty",
   "metadata": {},
   "source": [
    "For the simplicity, consider a binomial random variables, $binomial(n,p)$, the sum of $n$ independent Bernooulli($p$) random variables, each of which equals 1 with probablity $p$ and 0 with $1-p$:\n",
    "\n",
    "The mean of Bernooulli($p$) variable is $p$ and its $\\sigma(p)$ is $\\sqrt{p(1-p)}$. Then the binomial($n,p$) has a mean of $\\mu=np$ and $\\sigma=\\sqrt{np(1-p)}$."
   ]
  },
  {
   "cell_type": "code",
   "execution_count": 141,
   "id": "organized-fireplace",
   "metadata": {},
   "outputs": [],
   "source": [
    "def bernoulli_trial(p):\n",
    "    return 1 if random.random()<p else 0\n",
    "\n",
    "def binomial(n,p):\n",
    "    return sum(bernoulli_trial(p) for _ in range(n))"
   ]
  },
  {
   "cell_type": "code",
   "execution_count": 142,
   "id": "excessive-mathematics",
   "metadata": {},
   "outputs": [],
   "source": [
    "def make_hist(p,n,num_points):\n",
    "    data = [binomial(n,p) for _ in range(num_points)]\n",
    "    \n",
    "    histogram = collections.Counter(data)\n",
    "    plt.bar([x-0.4 for x in histogram.keys()],[v/num_points for v in histogram.values()],\n",
    "           0.8,color='0.75', label = 'Binomial Distribution')\n",
    "    mu=p*n\n",
    "    sigma=math.sqrt(n*p*(1-p))\n",
    "    \n",
    "    xs=range(min(data),max(data)+1)\n",
    "    ys=[normal_cdf(i+0.5,mu,sigma)-normal_cdf(i-0.5,mu,sigma) for i in xs] \n",
    "    plt.plot(xs,ys, label = 'Normal Approximation')\n",
    "    plt.title(\"Binomial Distribution vs. Normal Approximation\")\n",
    "    plt.legend()\n",
    "    plt.show()"
   ]
  },
  {
   "cell_type": "code",
   "execution_count": 143,
   "id": "driven-picture",
   "metadata": {},
   "outputs": [
    {
     "data": {
      "image/png": "[encoded data removed]",
      "text/plain": [
       "<Figure size 432x288 with 1 Axes>"
      ]
     },
     "metadata": {
      "needs_background": "light"
     },
     "output_type": "display_data"
    }
   ],
   "source": [
    "make_hist(0.75,100,10000)"
   ]
  },
  {
   "cell_type": "code",
   "execution_count": null,
   "id": "based-friday",
   "metadata": {},
   "outputs": [],
   "source": []
  }
 ],
 "metadata": {
  "kernelspec": {
   "display_name": "Python 3",
   "language": "python",
   "name": "python3"
  },
  "language_info": {
   "codemirror_mode": {
    "name": "ipython",
    "version": 3
   },
   "file_extension": ".py",
   "mimetype": "text/x-python",
   "name": "python",
   "nbconvert_exporter": "python",
   "pygments_lexer": "ipython3",
   "version": "3.8.3"
  }
 },
 "nbformat": 4,
 "nbformat_minor": 5
}
